{
 "cells": [
  {
   "cell_type": "markdown",
   "source": [
    "# The Battle of Neighborhoods"
   ],
   "metadata": {
    "collapsed": false
   }
  },
  {
   "cell_type": "code",
   "execution_count": 1,
   "outputs": [
    {
     "name": "stdout",
     "text": [
      "Modules Imported!\n"
     ],
     "output_type": "stream"
    }
   ],
   "source": [
    "import pandas as pd # Data Analysis\n",
    "import numpy as np # Handles Data in a Vectorized Manner\n",
    "import requests #handles requests\n",
    "import folium # Plotting\n",
    "from geopy.geocoders import Nominatim #address to Latitude and Longitude\n",
    "from bs4 import BeautifulSoup\n",
    "\n",
    "\n",
    "print('Modules Imported!')"
   ],
   "metadata": {
    "collapsed": false,
    "pycharm": {
     "name": "#%%\n",
     "is_executing": false
    }
   }
  },
  {
   "cell_type": "code",
   "execution_count": 2,
   "outputs": [],
   "source": [
    "# Web Sources for scraping\n",
    "\n",
    "NYC_url = 'https://www.health.ny.gov/statistics/cancer/registry/appendix/neighborhoods.htm'\n",
    "LA_url = 'http://www.laalmanac.com/communications/cm02_communities.php'\n",
    "CHI_url = 'https://www.seechicagorealestate.com/chicago-zip-codes-by-neighborhood.php'"
   ],
   "metadata": {
    "collapsed": false,
    "pycharm": {
     "name": "#%%\n",
     "is_executing": false
    }
   }
  },
  {
   "cell_type": "markdown",
   "source": [
    "## Web Scraping and setting up DataFrames"
   ],
   "metadata": {
    "collapsed": false,
    "pycharm": {
     "name": "#%% md\n"
    }
   }
  },
  {
   "cell_type": "markdown",
   "source": [
    "New York City"
   ],
   "metadata": {
    "collapsed": false,
    "pycharm": {
     "name": "#%% md\n"
    }
   }
  },
  {
   "cell_type": "code",
   "execution_count": 3,
   "outputs": [
    {
     "name": "stdout",
     "text": [
      "(42, 3) \n",
      "   Borough                Neighborhood                   ZIP Codes\n",
      "0   Bronx               Central Bronx         10453, 10457, 10460\n",
      "1   Bronx      Bronx Park and Fordham         10458, 10467, 10468\n",
      "2   Bronx  High Bridge and Morrisania         10451, 10452, 10456\n",
      "3   Bronx  Hunts Point and Mott Haven  10454, 10455, 10459, 10474\n",
      "4   Bronx   Kingsbridge and Riverdale                10463, 10471\n"
     ],
     "output_type": "stream"
    }
   ],
   "source": [
    "source1 = requests.get(NYC_url).text\n",
    "soup1 = BeautifulSoup(source1,'lxml')\n",
    "table1 = soup1.find('table')\n",
    "\n",
    "readme_html1 = pd.read_html(str(table1))\n",
    "NYC_df = pd.DataFrame(readme_html1[0])\n",
    "print(NYC_df.shape, '\\n', NYC_df.head())"
   ],
   "metadata": {
    "collapsed": false,
    "pycharm": {
     "name": "#%%\n",
     "is_executing": false
    }
   }
  },
  {
   "cell_type": "markdown",
   "source": [
    "Los Angeles "
   ],
   "metadata": {
    "collapsed": false,
    "pycharm": {
     "name": "#%% md\n"
    }
   }
  },
  {
   "cell_type": "code",
   "execution_count": 4,
   "outputs": [
    {
     "name": "stdout",
     "text": [
      "(643, 2) \n",
      "             City/Community   Zip Code(s)\n",
      "0                    Acton         93510\n",
      "1             Agoura Hills         91301\n",
      "2  Agoura Hills (PO Boxes)         91376\n",
      "3               Agua Dulce         91390\n",
      "4                 Alhambra  91801, 91803\n"
     ],
     "output_type": "stream"
    }
   ],
   "source": [
    "source2 = requests.get(LA_url).text\n",
    "soup2 = BeautifulSoup(source2, 'lxml')\n",
    "table2 = soup2.find('table')\n",
    "\n",
    "readme_html2 = pd.read_html(str(table2))\n",
    "LA_df = pd.DataFrame(readme_html2[0])\n",
    "print(LA_df.shape, '\\n', LA_df.head())"
   ],
   "metadata": {
    "collapsed": false,
    "pycharm": {
     "name": "#%%\n",
     "is_executing": false
    }
   }
  },
  {
   "cell_type": "markdown",
   "source": [
    "Chicago"
   ],
   "metadata": {
    "collapsed": false,
    "pycharm": {
     "name": "#%% md\n"
    }
   }
  },
  {
   "cell_type": "code",
   "execution_count": 5,
   "outputs": [
    {
     "name": "stdout",
     "text": [
      "(199, 2) \n",
      "                     0             1\n",
      "0            Downtown      Zip Code\n",
      "1  Cathedral District         60611\n",
      "2     Central Station         60605\n",
      "3       Dearborn Park         60605\n",
      "4          Gold Coast  60610, 60611\n"
     ],
     "output_type": "stream"
    }
   ],
   "source": [
    "source3 = requests.get(CHI_url).text\n",
    "soup3 = BeautifulSoup(source3, 'lxml')\n",
    "table3 = soup3.find('table')\n",
    "\n",
    "readme_html3 = pd.read_html(str(table3))\n",
    "CHI_df = pd.DataFrame(readme_html3[0])\n",
    "print(CHI_df.shape, '\\n', CHI_df.head())\n",
    "\n"
   ],
   "metadata": {
    "collapsed": false,
    "pycharm": {
     "name": "#%%\n",
     "is_executing": false
    }
   }
  },
  {
   "cell_type": "code",
   "execution_count": 5,
   "outputs": [],
   "source": [
    "\n"
   ],
   "metadata": {
    "collapsed": false,
    "pycharm": {
     "name": "#%%\n",
     "is_executing": false
    }
   }
  }
 ],
 "metadata": {
  "kernelspec": {
   "display_name": "Python 3",
   "language": "python",
   "name": "python3"
  },
  "language_info": {
   "codemirror_mode": {
    "name": "ipython",
    "version": 2
   },
   "file_extension": ".py",
   "mimetype": "text/x-python",
   "name": "python",
   "nbconvert_exporter": "python",
   "pygments_lexer": "ipython2",
   "version": "2.7.6"
  },
  "pycharm": {
   "stem_cell": {
    "cell_type": "raw",
    "source": [],
    "metadata": {
     "collapsed": false
    }
   }
  }
 },
 "nbformat": 4,
 "nbformat_minor": 0
}