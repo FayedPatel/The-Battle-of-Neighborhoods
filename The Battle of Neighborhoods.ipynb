{
 "cells": [
  {
   "cell_type": "markdown",
   "source": [
    "# The Battle of Neighborhoods"
   ],
   "metadata": {
    "collapsed": false
   }
  },
  {
   "cell_type": "code",
   "execution_count": 13,
   "outputs": [
    {
     "name": "stdout",
     "text": [
      "Modules Imported!\n"
     ],
     "output_type": "stream"
    }
   ],
   "source": [
    "import pandas as pd # Data Analysis\n",
    "import numpy as np # Handles Data in a Vectorized Manner\n",
    "import requests #handles requests\n",
    "import folium # Plotting\n",
    "from geopy.geocoders import Nominatim #address to Latitude and Longitude\n",
    "from bs4 import BeautifulSoup\n",
    "\n",
    "\n",
    "print('Modules Imported!')"
   ],
   "metadata": {
    "collapsed": false,
    "pycharm": {
     "name": "#%%\n",
     "is_executing": false
    }
   }
  },
  {
   "cell_type": "code",
   "execution_count": 14,
   "outputs": [],
   "source": [
    "# Web Sources for scraping\n",
    "\n",
    "NYC_url = 'https://www.health.ny.gov/statistics/cancer/registry/appendix/neighborhoods.htm'\n",
    "LA_url = 'http://www.laalmanac.com/communications/cm02_communities.php'\n",
    "CHI_url = 'https://www.seechicagorealestate.com/chicago-zip-codes-by-neighborhood.php'"
   ],
   "metadata": {
    "collapsed": false,
    "pycharm": {
     "name": "#%%\n",
     "is_executing": false
    }
   }
  },
  {
   "cell_type": "markdown",
   "source": [
    "## Web Scraping and setting up DataFrames"
   ],
   "metadata": {
    "collapsed": false,
    "pycharm": {
     "name": "#%% md\n"
    }
   }
  },
  {
   "cell_type": "markdown",
   "source": [
    "New York City"
   ],
   "metadata": {
    "collapsed": false,
    "pycharm": {
     "name": "#%% md\n"
    }
   }
  },
  {
   "cell_type": "code",
   "execution_count": 15,
   "outputs": [
    {
     "name": "stdout",
     "text": [
      "(42, 3) \n",
      "   Borough                Neighborhood                   ZIP Codes\n",
      "0   Bronx               Central Bronx         10453, 10457, 10460\n",
      "1   Bronx      Bronx Park and Fordham         10458, 10467, 10468\n",
      "2   Bronx  High Bridge and Morrisania         10451, 10452, 10456\n",
      "3   Bronx  Hunts Point and Mott Haven  10454, 10455, 10459, 10474\n",
      "4   Bronx   Kingsbridge and Riverdale                10463, 10471\n"
     ],
     "output_type": "stream"
    }
   ],
   "source": [
    "source1 = requests.get(NYC_url).text\n",
    "soup1 = BeautifulSoup(source1,'lxml')\n",
    "table1 = soup1.find('table')\n",
    "\n",
    "readme_html1 = pd.read_html(str(table1))\n",
    "NYC_df = pd.DataFrame(readme_html1[0])\n",
    "print(NYC_df.shape, '\\n', NYC_df.head())"
   ],
   "metadata": {
    "collapsed": false,
    "pycharm": {
     "name": "#%%\n",
     "is_executing": false
    }
   }
  },
  {
   "cell_type": "markdown",
   "source": [
    "Los Angeles "
   ],
   "metadata": {
    "collapsed": false,
    "pycharm": {
     "name": "#%% md\n"
    }
   }
  },
  {
   "cell_type": "code",
   "execution_count": 16,
   "outputs": [
    {
     "name": "stdout",
     "text": [
      "(643, 2) \n",
      "             City/Community   Zip Code(s)\n",
      "0                    Acton         93510\n",
      "1             Agoura Hills         91301\n",
      "2  Agoura Hills (PO Boxes)         91376\n",
      "3               Agua Dulce         91390\n",
      "4                 Alhambra  91801, 91803\n"
     ],
     "output_type": "stream"
    }
   ],
   "source": [
    "source2 = requests.get(LA_url).text\n",
    "soup2 = BeautifulSoup(source2, 'lxml')\n",
    "table2 = soup2.find('table')\n",
    "\n",
    "readme_html2 = pd.read_html(str(table2))\n",
    "LA_df = pd.DataFrame(readme_html2[0])\n",
    "print(LA_df.shape, '\\n', LA_df.head())"
   ],
   "metadata": {
    "collapsed": false,
    "pycharm": {
     "name": "#%%\n",
     "is_executing": false
    }
   }
  },
  {
   "cell_type": "markdown",
   "source": [
    "Chicago"
   ],
   "metadata": {
    "collapsed": false,
    "pycharm": {
     "name": "#%% md\n"
    }
   }
  },
  {
   "cell_type": "code",
   "execution_count": 17,
   "outputs": [
    {
     "name": "stdout",
     "text": [
      "(199, 2) \n",
      "                     0             1\n",
      "0            Downtown      Zip Code\n",
      "1  Cathedral District         60611\n",
      "2     Central Station         60605\n",
      "3       Dearborn Park         60605\n",
      "4          Gold Coast  60610, 60611\n"
     ],
     "output_type": "stream"
    }
   ],
   "source": [
    "source3 = requests.get(CHI_url).text\n",
    "soup3 = BeautifulSoup(source3, 'lxml')\n",
    "table3 = soup3.find('table')\n",
    "\n",
    "readme_html3 = pd.read_html(str(table3))\n",
    "CHI_df = pd.DataFrame(readme_html3[0])\n",
    "print(CHI_df.shape, '\\n', CHI_df.head())"
   ],
   "metadata": {
    "collapsed": false,
    "pycharm": {
     "name": "#%%\n",
     "is_executing": false
    }
   }
  },
  {
   "cell_type": "markdown",
   "source": [
    "Renaming columns to be consistent through each DataFrame"
   ],
   "metadata": {
    "collapsed": false,
    "pycharm": {
     "name": "#%% md\n"
    }
   }
  },
  {
   "cell_type": "code",
   "execution_count": 18,
   "outputs": [
    {
     "name": "stdout",
     "text": [
      "['Borough', 'Neighborhood', 'zip_codes']\n",
      "['Neighborhood', 'zip_codes']\n",
      "['Neighborhood', 'zip_codes']\n"
     ],
     "output_type": "stream"
    }
   ],
   "source": [
    "NYC_df.rename(columns={'ZIP Codes': 'zip_codes'}, inplace=True)\n",
    "LA_df.rename(columns={'City/Community': 'Neighborhood', 'Zip Code(s)': 'zip_codes'}, inplace=True)\n",
    "CHI_df.columns = ['Neighborhood','zip_codes']\n",
    "\n",
    "print(list(NYC_df.columns))\n",
    "print(list(LA_df.columns))\n",
    "print(list(CHI_df.columns))"
   ],
   "metadata": {
    "collapsed": false,
    "pycharm": {
     "name": "#%%\n",
     "is_executing": false
    }
   }
  },
  {
   "cell_type": "markdown",
   "source": [
    "## Cleaning DataFrames"
   ],
   "metadata": {
    "collapsed": false,
    "pycharm": {
     "name": "#%% md\n"
    }
   }
  },
  {
   "cell_type": "code",
   "execution_count": 19,
   "outputs": [
    {
     "name": "stdout",
     "text": [
      "Borough         0\n",
      "Neighborhood    0\n",
      "zip_codes       0\n",
      "dtype: int64\n",
      "Borough         0\n",
      "Neighborhood    0\n",
      "zip_codes       0\n",
      "dtype: int64\n",
      "\n",
      "\n",
      "Neighborhood    0\n",
      "zip_codes       0\n",
      "dtype: int64\n",
      "Neighborhood    0\n",
      "zip_codes       0\n",
      "dtype: int64\n",
      "\n",
      "\n",
      "Neighborhood    7\n",
      "zip_codes       7\n",
      "dtype: int64\n",
      "Neighborhood    7\n",
      "zip_codes       7\n",
      "dtype: int64\n"
     ],
     "output_type": "stream"
    }
   ],
   "source": [
    "#Checking NA and NULLs in each DataFrame\n",
    "\n",
    "print(NYC_df.isna().sum())\n",
    "print(NYC_df.isnull().sum())\n",
    "print('\\n')\n",
    "print(LA_df.isna().sum())\n",
    "print(LA_df.isnull().sum())\n",
    "print('\\n')\n",
    "print(CHI_df.isna().sum())\n",
    "print(CHI_df.isnull().sum())"
   ],
   "metadata": {
    "collapsed": false,
    "pycharm": {
     "name": "#%%\n",
     "is_executing": false
    }
   }
  },
  {
   "cell_type": "code",
   "execution_count": 20,
   "outputs": [],
   "source": [
    "#Investigating the CHI DataFrame\n",
    "\n",
    "#pd.set_option('display.max_rows', None)\n",
    "#pd.set_option('display.max_columns', None)\n",
    "#pd.set_option('display.width', None)\n",
    "#pd.set_option('display.max_colwidth', -1)\n",
    "#CHI_df"
   ],
   "metadata": {
    "collapsed": false,
    "pycharm": {
     "name": "#%%\n",
     "is_executing": false
    }
   }
  },
  {
   "cell_type": "code",
   "execution_count": 21,
   "outputs": [
    {
     "name": "stdout",
     "text": [
      "Neighborhood    0\n",
      "zip_codes       0\n",
      "dtype: int64\n",
      "Neighborhood    0\n",
      "zip_codes       0\n",
      "dtype: int64\n"
     ],
     "output_type": "stream"
    }
   ],
   "source": [
    "CHI_df.dropna(inplace=True)\n",
    "print(CHI_df.isna().sum())\n",
    "print(CHI_df.isnull().sum())"
   ],
   "metadata": {
    "collapsed": false,
    "pycharm": {
     "name": "#%%\n",
     "is_executing": false
    }
   }
  },
  {
   "cell_type": "code",
   "execution_count": 22,
   "outputs": [
    {
     "data": {
      "text/plain": "                 Neighborhood zip_codes\n0               Central Bronx     10453\n1               Central Bronx     10457\n2               Central Bronx     10460\n3      Bronx Park and Fordham     10458\n4      Bronx Park and Fordham     10467\n..                        ...       ...\n173               South Shore     10312\n174  Stapleton and St. George     10301\n175  Stapleton and St. George     10304\n176  Stapleton and St. George     10305\n177                Mid-Island     10314\n\n[178 rows x 2 columns]",
      "text/html": "<div>\n<style scoped>\n    .dataframe tbody tr th:only-of-type {\n        vertical-align: middle;\n    }\n\n    .dataframe tbody tr th {\n        vertical-align: top;\n    }\n\n    .dataframe thead th {\n        text-align: right;\n    }\n</style>\n<table border=\"1\" class=\"dataframe\">\n  <thead>\n    <tr style=\"text-align: right;\">\n      <th></th>\n      <th>Neighborhood</th>\n      <th>zip_codes</th>\n    </tr>\n  </thead>\n  <tbody>\n    <tr>\n      <th>0</th>\n      <td>Central Bronx</td>\n      <td>10453</td>\n    </tr>\n    <tr>\n      <th>1</th>\n      <td>Central Bronx</td>\n      <td>10457</td>\n    </tr>\n    <tr>\n      <th>2</th>\n      <td>Central Bronx</td>\n      <td>10460</td>\n    </tr>\n    <tr>\n      <th>3</th>\n      <td>Bronx Park and Fordham</td>\n      <td>10458</td>\n    </tr>\n    <tr>\n      <th>4</th>\n      <td>Bronx Park and Fordham</td>\n      <td>10467</td>\n    </tr>\n    <tr>\n      <th>...</th>\n      <td>...</td>\n      <td>...</td>\n    </tr>\n    <tr>\n      <th>173</th>\n      <td>South Shore</td>\n      <td>10312</td>\n    </tr>\n    <tr>\n      <th>174</th>\n      <td>Stapleton and St. George</td>\n      <td>10301</td>\n    </tr>\n    <tr>\n      <th>175</th>\n      <td>Stapleton and St. George</td>\n      <td>10304</td>\n    </tr>\n    <tr>\n      <th>176</th>\n      <td>Stapleton and St. George</td>\n      <td>10305</td>\n    </tr>\n    <tr>\n      <th>177</th>\n      <td>Mid-Island</td>\n      <td>10314</td>\n    </tr>\n  </tbody>\n</table>\n<p>178 rows × 2 columns</p>\n</div>"
     },
     "metadata": {},
     "output_type": "execute_result",
     "execution_count": 22
    }
   ],
   "source": [
    "new_df1 = pd.DataFrame(NYC_df.zip_codes.str.split(',').tolist(), index= NYC_df.Neighborhood).stack()\n",
    "new_df1 = new_df1.reset_index([0, 'Neighborhood'])\n",
    "NYC_df2 = new_df1\n",
    "NYC_df2.columns = ['Neighborhood','zip_codes']\n",
    "NYC_df2"
   ],
   "metadata": {
    "collapsed": false,
    "pycharm": {
     "name": "#%%\n",
     "is_executing": false
    }
   }
  },
  {
   "cell_type": "code",
   "execution_count": 23,
   "outputs": [
    {
     "data": {
      "text/plain": "                                    Neighborhood zip_codes\n0                                          Acton     93510\n1                                   Agoura Hills     91301\n2                        Agoura Hills (PO Boxes)     91376\n3                                     Agua Dulce     91390\n4                                       Alhambra     91801\n..                                           ...       ...\n975                 Woodland Hills (Los Angeles)     91364\n976                 Woodland Hills (Los Angeles)     91367\n977      Woodland Hills (PO Boxes) (Los Angeles)     91365\n978      Woodland Hills (PO Boxes) (Los Angeles)     91372\n979  Woodland Hills/Pierce College (Los Angeles)     91371\n\n[980 rows x 2 columns]",
      "text/html": "<div>\n<style scoped>\n    .dataframe tbody tr th:only-of-type {\n        vertical-align: middle;\n    }\n\n    .dataframe tbody tr th {\n        vertical-align: top;\n    }\n\n    .dataframe thead th {\n        text-align: right;\n    }\n</style>\n<table border=\"1\" class=\"dataframe\">\n  <thead>\n    <tr style=\"text-align: right;\">\n      <th></th>\n      <th>Neighborhood</th>\n      <th>zip_codes</th>\n    </tr>\n  </thead>\n  <tbody>\n    <tr>\n      <th>0</th>\n      <td>Acton</td>\n      <td>93510</td>\n    </tr>\n    <tr>\n      <th>1</th>\n      <td>Agoura Hills</td>\n      <td>91301</td>\n    </tr>\n    <tr>\n      <th>2</th>\n      <td>Agoura Hills (PO Boxes)</td>\n      <td>91376</td>\n    </tr>\n    <tr>\n      <th>3</th>\n      <td>Agua Dulce</td>\n      <td>91390</td>\n    </tr>\n    <tr>\n      <th>4</th>\n      <td>Alhambra</td>\n      <td>91801</td>\n    </tr>\n    <tr>\n      <th>...</th>\n      <td>...</td>\n      <td>...</td>\n    </tr>\n    <tr>\n      <th>975</th>\n      <td>Woodland Hills (Los Angeles)</td>\n      <td>91364</td>\n    </tr>\n    <tr>\n      <th>976</th>\n      <td>Woodland Hills (Los Angeles)</td>\n      <td>91367</td>\n    </tr>\n    <tr>\n      <th>977</th>\n      <td>Woodland Hills (PO Boxes) (Los Angeles)</td>\n      <td>91365</td>\n    </tr>\n    <tr>\n      <th>978</th>\n      <td>Woodland Hills (PO Boxes) (Los Angeles)</td>\n      <td>91372</td>\n    </tr>\n    <tr>\n      <th>979</th>\n      <td>Woodland Hills/Pierce College (Los Angeles)</td>\n      <td>91371</td>\n    </tr>\n  </tbody>\n</table>\n<p>980 rows × 2 columns</p>\n</div>"
     },
     "metadata": {},
     "output_type": "execute_result",
     "execution_count": 23
    }
   ],
   "source": [
    "new_df2 = pd.DataFrame(LA_df.zip_codes.str.split(',').tolist(), index= LA_df.Neighborhood).stack()\n",
    "new_df2 = new_df2.reset_index([0, 'Neighborhood'])\n",
    "LA_df2 = new_df2\n",
    "LA_df2.columns = ['Neighborhood','zip_codes']\n",
    "LA_df2"
   ],
   "metadata": {
    "collapsed": false,
    "pycharm": {
     "name": "#%%\n",
     "is_executing": false
    }
   }
  },
  {
   "cell_type": "code",
   "execution_count": 24,
   "outputs": [
    {
     "data": {
      "text/plain": "           Neighborhood zip_codes\n0    Cathedral District     60611\n1       Central Station     60605\n2         Dearborn Park     60605\n3            Gold Coast     60610\n4            Gold Coast     60611\n..                  ...       ...\n355     Washington Park     60609\n356     Washington Park     60615\n357     Washington Park     60621\n358     Washington Park     60637\n359            Woodlawn     60637\n\n[360 rows x 2 columns]",
      "text/html": "<div>\n<style scoped>\n    .dataframe tbody tr th:only-of-type {\n        vertical-align: middle;\n    }\n\n    .dataframe tbody tr th {\n        vertical-align: top;\n    }\n\n    .dataframe thead th {\n        text-align: right;\n    }\n</style>\n<table border=\"1\" class=\"dataframe\">\n  <thead>\n    <tr style=\"text-align: right;\">\n      <th></th>\n      <th>Neighborhood</th>\n      <th>zip_codes</th>\n    </tr>\n  </thead>\n  <tbody>\n    <tr>\n      <th>0</th>\n      <td>Cathedral District</td>\n      <td>60611</td>\n    </tr>\n    <tr>\n      <th>1</th>\n      <td>Central Station</td>\n      <td>60605</td>\n    </tr>\n    <tr>\n      <th>2</th>\n      <td>Dearborn Park</td>\n      <td>60605</td>\n    </tr>\n    <tr>\n      <th>3</th>\n      <td>Gold Coast</td>\n      <td>60610</td>\n    </tr>\n    <tr>\n      <th>4</th>\n      <td>Gold Coast</td>\n      <td>60611</td>\n    </tr>\n    <tr>\n      <th>...</th>\n      <td>...</td>\n      <td>...</td>\n    </tr>\n    <tr>\n      <th>355</th>\n      <td>Washington Park</td>\n      <td>60609</td>\n    </tr>\n    <tr>\n      <th>356</th>\n      <td>Washington Park</td>\n      <td>60615</td>\n    </tr>\n    <tr>\n      <th>357</th>\n      <td>Washington Park</td>\n      <td>60621</td>\n    </tr>\n    <tr>\n      <th>358</th>\n      <td>Washington Park</td>\n      <td>60637</td>\n    </tr>\n    <tr>\n      <th>359</th>\n      <td>Woodlawn</td>\n      <td>60637</td>\n    </tr>\n  </tbody>\n</table>\n<p>360 rows × 2 columns</p>\n</div>"
     },
     "metadata": {},
     "output_type": "execute_result",
     "execution_count": 24
    }
   ],
   "source": [
    "new_df3 = pd.DataFrame(CHI_df.zip_codes.str.split(',').tolist(), index= CHI_df.Neighborhood).stack()\n",
    "new_df3 = new_df3.reset_index([0, 'Neighborhood'])\n",
    "new_df3.drop(new_df3.index[0], inplace=True)\n",
    "#new_df3.drop(['index'], axis=1)\n",
    "new_df3.reset_index(inplace=True)\n",
    "CHI_df2 = new_df3\n",
    "CHI_df2.columns = ['old index' , 'Neighborhood','zip_codes']\n",
    "CHI_df2.drop(['old index'], axis=1, inplace= True)\n",
    "CHI_df2"
   ],
   "metadata": {
    "collapsed": false,
    "pycharm": {
     "name": "#%%\n",
     "is_executing": false
    }
   }
  },
  {
   "cell_type": "code",
   "execution_count": 24,
   "outputs": [],
   "source": [
    "\n"
   ],
   "metadata": {
    "collapsed": false,
    "pycharm": {
     "name": "#%%\n",
     "is_executing": false
    }
   }
  }
 ],
 "metadata": {
  "kernelspec": {
   "display_name": "Python 3",
   "language": "python",
   "name": "python3"
  },
  "language_info": {
   "codemirror_mode": {
    "name": "ipython",
    "version": 2
   },
   "file_extension": ".py",
   "mimetype": "text/x-python",
   "name": "python",
   "nbconvert_exporter": "python",
   "pygments_lexer": "ipython2",
   "version": "2.7.6"
  },
  "pycharm": {
   "stem_cell": {
    "cell_type": "raw",
    "source": [],
    "metadata": {
     "collapsed": false
    }
   }
  }
 },
 "nbformat": 4,
 "nbformat_minor": 0
}