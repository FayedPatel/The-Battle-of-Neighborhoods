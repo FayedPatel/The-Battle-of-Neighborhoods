{
 "cells": [
  {
   "cell_type": "markdown",
   "source": [
    "# The Battle of Neighborhoods"
   ],
   "metadata": {
    "collapsed": false
   }
  },
  {
   "cell_type": "code",
   "execution_count": 143,
   "outputs": [
    {
     "name": "stdout",
     "text": [
      "Modules Imported!\n"
     ],
     "output_type": "stream"
    }
   ],
   "source": [
    "import pandas as pd # Data Analysis\n",
    "import numpy as np # Handles Data in a Vectorized Manner\n",
    "import requests #handles requests\n",
    "import folium # Plotting\n",
    "from geopy.geocoders import Nominatim # address to Latitude and Longitude\n",
    "from geopy.extra.rate_limiter import RateLimiter # reduces the \"Too Many Requests Error\"\n",
    "from bs4 import BeautifulSoup # web scraping\n",
    "\n",
    "\n",
    "print('Modules Imported!')"
   ],
   "metadata": {
    "collapsed": false,
    "pycharm": {
     "name": "#%%\n",
     "is_executing": false
    }
   }
  },
  {
   "cell_type": "code",
   "execution_count": 144,
   "outputs": [],
   "source": [
    "# Web Sources for scraping\n",
    "\n",
    "NYC_url = 'https://www.health.ny.gov/statistics/cancer/registry/appendix/neighborhoods.htm'\n",
    "LA_url = 'http://www.laalmanac.com/communications/cm02_communities.php'\n",
    "CHI_url = 'https://www.seechicagorealestate.com/chicago-zip-codes-by-neighborhood.php'"
   ],
   "metadata": {
    "collapsed": false,
    "pycharm": {
     "name": "#%%\n",
     "is_executing": false
    }
   }
  },
  {
   "cell_type": "markdown",
   "source": [
    "## Web Scraping and setting up DataFrames"
   ],
   "metadata": {
    "collapsed": false,
    "pycharm": {
     "name": "#%% md\n"
    }
   }
  },
  {
   "cell_type": "markdown",
   "source": [
    "New York City"
   ],
   "metadata": {
    "collapsed": false,
    "pycharm": {
     "name": "#%% md\n"
    }
   }
  },
  {
   "cell_type": "code",
   "execution_count": 145,
   "outputs": [
    {
     "name": "stdout",
     "text": [
      "(42, 3) \n",
      "   Borough                Neighborhood                   ZIP Codes\n",
      "0   Bronx               Central Bronx         10453, 10457, 10460\n",
      "1   Bronx      Bronx Park and Fordham         10458, 10467, 10468\n",
      "2   Bronx  High Bridge and Morrisania         10451, 10452, 10456\n",
      "3   Bronx  Hunts Point and Mott Haven  10454, 10455, 10459, 10474\n",
      "4   Bronx   Kingsbridge and Riverdale                10463, 10471\n"
     ],
     "output_type": "stream"
    }
   ],
   "source": [
    "source1 = requests.get(NYC_url).text\n",
    "soup1 = BeautifulSoup(source1,'lxml')\n",
    "table1 = soup1.find('table')\n",
    "\n",
    "readme_html1 = pd.read_html(str(table1))\n",
    "NYC_df = pd.DataFrame(readme_html1[0])\n",
    "print(NYC_df.shape, '\\n', NYC_df.head())"
   ],
   "metadata": {
    "collapsed": false,
    "pycharm": {
     "name": "#%%\n",
     "is_executing": false
    }
   }
  },
  {
   "cell_type": "markdown",
   "source": [
    "Los Angeles "
   ],
   "metadata": {
    "collapsed": false,
    "pycharm": {
     "name": "#%% md\n"
    }
   }
  },
  {
   "cell_type": "code",
   "execution_count": 146,
   "outputs": [
    {
     "name": "stdout",
     "text": [
      "(643, 2) \n",
      "             City/Community   Zip Code(s)\n",
      "0                    Acton         93510\n",
      "1             Agoura Hills         91301\n",
      "2  Agoura Hills (PO Boxes)         91376\n",
      "3               Agua Dulce         91390\n",
      "4                 Alhambra  91801, 91803\n"
     ],
     "output_type": "stream"
    }
   ],
   "source": [
    "source2 = requests.get(LA_url).text\n",
    "soup2 = BeautifulSoup(source2, 'lxml')\n",
    "table2 = soup2.find('table')\n",
    "\n",
    "readme_html2 = pd.read_html(str(table2))\n",
    "LA_df = pd.DataFrame(readme_html2[0])\n",
    "print(LA_df.shape, '\\n', LA_df.head())"
   ],
   "metadata": {
    "collapsed": false,
    "pycharm": {
     "name": "#%%\n",
     "is_executing": false
    }
   }
  },
  {
   "cell_type": "markdown",
   "source": [
    "Chicago"
   ],
   "metadata": {
    "collapsed": false,
    "pycharm": {
     "name": "#%% md\n"
    }
   }
  },
  {
   "cell_type": "code",
   "execution_count": 147,
   "outputs": [
    {
     "name": "stdout",
     "text": [
      "(199, 2) \n",
      "                     0             1\n",
      "0            Downtown      Zip Code\n",
      "1  Cathedral District         60611\n",
      "2     Central Station         60605\n",
      "3       Dearborn Park         60605\n",
      "4          Gold Coast  60610, 60611\n"
     ],
     "output_type": "stream"
    }
   ],
   "source": [
    "source3 = requests.get(CHI_url).text\n",
    "soup3 = BeautifulSoup(source3, 'lxml')\n",
    "table3 = soup3.find('table')\n",
    "\n",
    "readme_html3 = pd.read_html(str(table3))\n",
    "CHI_df = pd.DataFrame(readme_html3[0])\n",
    "print(CHI_df.shape, '\\n', CHI_df.head())"
   ],
   "metadata": {
    "collapsed": false,
    "pycharm": {
     "name": "#%%\n",
     "is_executing": false
    }
   }
  },
  {
   "cell_type": "markdown",
   "source": [
    "Renaming columns to be consistent through each DataFrame"
   ],
   "metadata": {
    "collapsed": false,
    "pycharm": {
     "name": "#%% md\n"
    }
   }
  },
  {
   "cell_type": "code",
   "execution_count": 148,
   "outputs": [
    {
     "name": "stdout",
     "text": [
      "['Borough', 'Neighborhood', 'zip_codes']\n",
      "['Neighborhood', 'zip_codes']\n",
      "['Neighborhood', 'zip_codes']\n"
     ],
     "output_type": "stream"
    }
   ],
   "source": [
    "NYC_df.rename(columns={'ZIP Codes': 'zip_codes'}, inplace=True)\n",
    "LA_df.rename(columns={'City/Community': 'Neighborhood', 'Zip Code(s)': 'zip_codes'}, inplace=True)\n",
    "CHI_df.columns = ['Neighborhood','zip_codes']\n",
    "\n",
    "print(list(NYC_df.columns))\n",
    "print(list(LA_df.columns))\n",
    "print(list(CHI_df.columns))"
   ],
   "metadata": {
    "collapsed": false,
    "pycharm": {
     "name": "#%%\n",
     "is_executing": false
    }
   }
  },
  {
   "cell_type": "markdown",
   "source": [
    "## Cleaning DataFrames"
   ],
   "metadata": {
    "collapsed": false,
    "pycharm": {
     "name": "#%% md\n"
    }
   }
  },
  {
   "cell_type": "code",
   "execution_count": 149,
   "outputs": [
    {
     "name": "stdout",
     "text": [
      "Borough         0\n",
      "Neighborhood    0\n",
      "zip_codes       0\n",
      "dtype: int64\n",
      "Borough         0\n",
      "Neighborhood    0\n",
      "zip_codes       0\n",
      "dtype: int64\n",
      "\n",
      "\n",
      "Neighborhood    0\n",
      "zip_codes       0\n",
      "dtype: int64\n",
      "Neighborhood    0\n",
      "zip_codes       0\n",
      "dtype: int64\n",
      "\n",
      "\n",
      "Neighborhood    7\n",
      "zip_codes       7\n",
      "dtype: int64\n",
      "Neighborhood    7\n",
      "zip_codes       7\n",
      "dtype: int64\n"
     ],
     "output_type": "stream"
    }
   ],
   "source": [
    "#Checking NA and NULLs in each DataFrame\n",
    "\n",
    "print(NYC_df.isna().sum())\n",
    "print(NYC_df.isnull().sum())\n",
    "print('\\n')\n",
    "print(LA_df.isna().sum())\n",
    "print(LA_df.isnull().sum())\n",
    "print('\\n')\n",
    "print(CHI_df.isna().sum())\n",
    "print(CHI_df.isnull().sum())"
   ],
   "metadata": {
    "collapsed": false,
    "pycharm": {
     "name": "#%%\n",
     "is_executing": false
    }
   }
  },
  {
   "cell_type": "code",
   "execution_count": 150,
   "outputs": [],
   "source": [
    "#Investigating the CHI DataFrame\n",
    "\n",
    "#pd.set_option('display.max_rows', None)\n",
    "#pd.set_option('display.max_columns', None)\n",
    "#pd.set_option('display.width', None)\n",
    "#pd.set_option('display.max_colwidth', -1)\n",
    "#CHI_df"
   ],
   "metadata": {
    "collapsed": false,
    "pycharm": {
     "name": "#%%\n",
     "is_executing": false
    }
   }
  },
  {
   "cell_type": "code",
   "execution_count": 151,
   "outputs": [
    {
     "name": "stdout",
     "text": [
      "Neighborhood    0\n",
      "zip_codes       0\n",
      "dtype: int64\n",
      "Neighborhood    0\n",
      "zip_codes       0\n",
      "dtype: int64\n"
     ],
     "output_type": "stream"
    }
   ],
   "source": [
    "CHI_df.dropna(inplace=True)\n",
    "print(CHI_df.isna().sum())\n",
    "print(CHI_df.isnull().sum())"
   ],
   "metadata": {
    "collapsed": false,
    "pycharm": {
     "name": "#%%\n",
     "is_executing": false
    }
   }
  },
  {
   "cell_type": "markdown",
   "source": [
    "### Exploding DataFrame by its ZIP Code"
   ],
   "metadata": {
    "collapsed": false,
    "pycharm": {
     "name": "#%% md\n"
    }
   }
  },
  {
   "cell_type": "markdown",
   "source": [
    "since there are multiple zip codes for each neighborhood, I need to separate them so the the geo locator can locate each zipcode"
   ],
   "metadata": {
    "collapsed": false,
    "pycharm": {
     "name": "#%% md\n"
    }
   }
  },
  {
   "cell_type": "code",
   "execution_count": 152,
   "outputs": [
    {
     "data": {
      "text/plain": "                 Neighborhood zip_codes\n0               Central Bronx     10453\n1               Central Bronx     10457\n2               Central Bronx     10460\n3      Bronx Park and Fordham     10458\n4      Bronx Park and Fordham     10467\n..                        ...       ...\n173               South Shore     10312\n174  Stapleton and St. George     10301\n175  Stapleton and St. George     10304\n176  Stapleton and St. George     10305\n177                Mid-Island     10314\n\n[178 rows x 2 columns]",
      "text/html": "<div>\n<style scoped>\n    .dataframe tbody tr th:only-of-type {\n        vertical-align: middle;\n    }\n\n    .dataframe tbody tr th {\n        vertical-align: top;\n    }\n\n    .dataframe thead th {\n        text-align: right;\n    }\n</style>\n<table border=\"1\" class=\"dataframe\">\n  <thead>\n    <tr style=\"text-align: right;\">\n      <th></th>\n      <th>Neighborhood</th>\n      <th>zip_codes</th>\n    </tr>\n  </thead>\n  <tbody>\n    <tr>\n      <th>0</th>\n      <td>Central Bronx</td>\n      <td>10453</td>\n    </tr>\n    <tr>\n      <th>1</th>\n      <td>Central Bronx</td>\n      <td>10457</td>\n    </tr>\n    <tr>\n      <th>2</th>\n      <td>Central Bronx</td>\n      <td>10460</td>\n    </tr>\n    <tr>\n      <th>3</th>\n      <td>Bronx Park and Fordham</td>\n      <td>10458</td>\n    </tr>\n    <tr>\n      <th>4</th>\n      <td>Bronx Park and Fordham</td>\n      <td>10467</td>\n    </tr>\n    <tr>\n      <th>...</th>\n      <td>...</td>\n      <td>...</td>\n    </tr>\n    <tr>\n      <th>173</th>\n      <td>South Shore</td>\n      <td>10312</td>\n    </tr>\n    <tr>\n      <th>174</th>\n      <td>Stapleton and St. George</td>\n      <td>10301</td>\n    </tr>\n    <tr>\n      <th>175</th>\n      <td>Stapleton and St. George</td>\n      <td>10304</td>\n    </tr>\n    <tr>\n      <th>176</th>\n      <td>Stapleton and St. George</td>\n      <td>10305</td>\n    </tr>\n    <tr>\n      <th>177</th>\n      <td>Mid-Island</td>\n      <td>10314</td>\n    </tr>\n  </tbody>\n</table>\n<p>178 rows × 2 columns</p>\n</div>"
     },
     "metadata": {},
     "output_type": "execute_result",
     "execution_count": 152
    }
   ],
   "source": [
    "new_df1 = pd.DataFrame(NYC_df.zip_codes.str.split(',').tolist(), index= NYC_df.Neighborhood).stack()\n",
    "new_df1 = new_df1.reset_index([0, 'Neighborhood'])\n",
    "NYC_df2 = new_df1\n",
    "NYC_df2.columns = ['Neighborhood','zip_codes']\n",
    "NYC_df2"
   ],
   "metadata": {
    "collapsed": false,
    "pycharm": {
     "name": "#%%\n",
     "is_executing": false
    }
   }
  },
  {
   "cell_type": "code",
   "execution_count": 153,
   "outputs": [
    {
     "data": {
      "text/plain": "                                    Neighborhood zip_codes\n0                                          Acton     93510\n1                                   Agoura Hills     91301\n2                        Agoura Hills (PO Boxes)     91376\n3                                     Agua Dulce     91390\n4                                       Alhambra     91801\n..                                           ...       ...\n975                 Woodland Hills (Los Angeles)     91364\n976                 Woodland Hills (Los Angeles)     91367\n977      Woodland Hills (PO Boxes) (Los Angeles)     91365\n978      Woodland Hills (PO Boxes) (Los Angeles)     91372\n979  Woodland Hills/Pierce College (Los Angeles)     91371\n\n[980 rows x 2 columns]",
      "text/html": "<div>\n<style scoped>\n    .dataframe tbody tr th:only-of-type {\n        vertical-align: middle;\n    }\n\n    .dataframe tbody tr th {\n        vertical-align: top;\n    }\n\n    .dataframe thead th {\n        text-align: right;\n    }\n</style>\n<table border=\"1\" class=\"dataframe\">\n  <thead>\n    <tr style=\"text-align: right;\">\n      <th></th>\n      <th>Neighborhood</th>\n      <th>zip_codes</th>\n    </tr>\n  </thead>\n  <tbody>\n    <tr>\n      <th>0</th>\n      <td>Acton</td>\n      <td>93510</td>\n    </tr>\n    <tr>\n      <th>1</th>\n      <td>Agoura Hills</td>\n      <td>91301</td>\n    </tr>\n    <tr>\n      <th>2</th>\n      <td>Agoura Hills (PO Boxes)</td>\n      <td>91376</td>\n    </tr>\n    <tr>\n      <th>3</th>\n      <td>Agua Dulce</td>\n      <td>91390</td>\n    </tr>\n    <tr>\n      <th>4</th>\n      <td>Alhambra</td>\n      <td>91801</td>\n    </tr>\n    <tr>\n      <th>...</th>\n      <td>...</td>\n      <td>...</td>\n    </tr>\n    <tr>\n      <th>975</th>\n      <td>Woodland Hills (Los Angeles)</td>\n      <td>91364</td>\n    </tr>\n    <tr>\n      <th>976</th>\n      <td>Woodland Hills (Los Angeles)</td>\n      <td>91367</td>\n    </tr>\n    <tr>\n      <th>977</th>\n      <td>Woodland Hills (PO Boxes) (Los Angeles)</td>\n      <td>91365</td>\n    </tr>\n    <tr>\n      <th>978</th>\n      <td>Woodland Hills (PO Boxes) (Los Angeles)</td>\n      <td>91372</td>\n    </tr>\n    <tr>\n      <th>979</th>\n      <td>Woodland Hills/Pierce College (Los Angeles)</td>\n      <td>91371</td>\n    </tr>\n  </tbody>\n</table>\n<p>980 rows × 2 columns</p>\n</div>"
     },
     "metadata": {},
     "output_type": "execute_result",
     "execution_count": 153
    }
   ],
   "source": [
    "new_df2 = pd.DataFrame(LA_df.zip_codes.str.split(',').tolist(), index= LA_df.Neighborhood).stack()\n",
    "new_df2 = new_df2.reset_index([0, 'Neighborhood'])\n",
    "LA_df2 = new_df2\n",
    "LA_df2.columns = ['Neighborhood','zip_codes']\n",
    "LA_df2"
   ],
   "metadata": {
    "collapsed": false,
    "pycharm": {
     "name": "#%%\n",
     "is_executing": false
    }
   }
  },
  {
   "cell_type": "code",
   "execution_count": 154,
   "outputs": [
    {
     "data": {
      "text/plain": "           Neighborhood zip_codes\n0    Cathedral District     60611\n1       Central Station     60605\n2         Dearborn Park     60605\n3            Gold Coast     60610\n4            Gold Coast     60611\n..                  ...       ...\n355     Washington Park     60609\n356     Washington Park     60615\n357     Washington Park     60621\n358     Washington Park     60637\n359            Woodlawn     60637\n\n[360 rows x 2 columns]",
      "text/html": "<div>\n<style scoped>\n    .dataframe tbody tr th:only-of-type {\n        vertical-align: middle;\n    }\n\n    .dataframe tbody tr th {\n        vertical-align: top;\n    }\n\n    .dataframe thead th {\n        text-align: right;\n    }\n</style>\n<table border=\"1\" class=\"dataframe\">\n  <thead>\n    <tr style=\"text-align: right;\">\n      <th></th>\n      <th>Neighborhood</th>\n      <th>zip_codes</th>\n    </tr>\n  </thead>\n  <tbody>\n    <tr>\n      <th>0</th>\n      <td>Cathedral District</td>\n      <td>60611</td>\n    </tr>\n    <tr>\n      <th>1</th>\n      <td>Central Station</td>\n      <td>60605</td>\n    </tr>\n    <tr>\n      <th>2</th>\n      <td>Dearborn Park</td>\n      <td>60605</td>\n    </tr>\n    <tr>\n      <th>3</th>\n      <td>Gold Coast</td>\n      <td>60610</td>\n    </tr>\n    <tr>\n      <th>4</th>\n      <td>Gold Coast</td>\n      <td>60611</td>\n    </tr>\n    <tr>\n      <th>...</th>\n      <td>...</td>\n      <td>...</td>\n    </tr>\n    <tr>\n      <th>355</th>\n      <td>Washington Park</td>\n      <td>60609</td>\n    </tr>\n    <tr>\n      <th>356</th>\n      <td>Washington Park</td>\n      <td>60615</td>\n    </tr>\n    <tr>\n      <th>357</th>\n      <td>Washington Park</td>\n      <td>60621</td>\n    </tr>\n    <tr>\n      <th>358</th>\n      <td>Washington Park</td>\n      <td>60637</td>\n    </tr>\n    <tr>\n      <th>359</th>\n      <td>Woodlawn</td>\n      <td>60637</td>\n    </tr>\n  </tbody>\n</table>\n<p>360 rows × 2 columns</p>\n</div>"
     },
     "metadata": {},
     "output_type": "execute_result",
     "execution_count": 154
    }
   ],
   "source": [
    "new_df3 = pd.DataFrame(CHI_df.zip_codes.str.split(',').tolist(), index= CHI_df.Neighborhood).stack()\n",
    "new_df3 = new_df3.reset_index([0, 'Neighborhood'])\n",
    "new_df3.drop(new_df3.index[0], inplace=True)\n",
    "new_df3.reset_index(inplace=True)\n",
    "CHI_df2 = new_df3\n",
    "CHI_df2.columns = ['old index' , 'Neighborhood','zip_codes']\n",
    "CHI_df2.drop(['old index'], axis=1, inplace= True)\n",
    "CHI_df2"
   ],
   "metadata": {
    "collapsed": false,
    "pycharm": {
     "name": "#%%\n",
     "is_executing": false
    }
   }
  },
  {
   "cell_type": "markdown",
   "source": [
    "## Finding Geo Coordinates for each ZIP Code"
   ],
   "metadata": {
    "collapsed": false,
    "pycharm": {
     "name": "#%% md\n"
    }
   }
  },
  {
   "cell_type": "code",
   "execution_count": 155,
   "outputs": [],
   "source": [
    "#geolocator = Nominatim(user_agent='google_agent')\n",
    "#geocode = RateLimiter(geolocator.geocode, min_delay_seconds=1)\n",
    "#NYC_df2['location'] = NYC_df2['zip_codes'].apply(geocode)\n",
    "\n",
    "#NYC_df2['point'] = NYC_df2['location'].apply(lambda loc: tuple(loc.point) if loc else None)\n",
    "\n",
    "#print('DONE!')"
   ],
   "metadata": {
    "collapsed": false,
    "pycharm": {
     "name": "#%%\n",
     "is_executing": false
    }
   }
  },
  {
   "cell_type": "code",
   "execution_count": 156,
   "outputs": [],
   "source": [
    "#LA_df2['location'] = LA_df2['zip_codes'].apply(geocode)\n",
    "\n",
    "#LA_df2['point'] = LA_df2['location'].apply(lambda loc: tuple(loc.point) if loc else None)\n",
    "\n",
    "#print('DONE!')"
   ],
   "metadata": {
    "collapsed": false,
    "pycharm": {
     "name": "#%%\n",
     "is_executing": false
    }
   }
  },
  {
   "cell_type": "code",
   "execution_count": 157,
   "outputs": [],
   "source": [
    "#CHI_df2['location'] = CHI_df2['zip_codes'].apply(geocode)\n",
    "\n",
    "#CHI_df2['point'] = CHI_df2['location'].apply(lambda loc: tuple(loc.point) if loc else None)\n",
    "\n",
    "#print('DONE!')"
   ],
   "metadata": {
    "collapsed": false,
    "pycharm": {
     "name": "#%%\n",
     "is_executing": false
    }
   }
  },
  {
   "cell_type": "markdown",
   "source": [
    "Saving results so that I dont have to re run the code each time. Takes a while to find to reduce the \"Too Many Requests Error\""
   ],
   "metadata": {
    "collapsed": false,
    "pycharm": {
     "name": "#%% md\n"
    }
   }
  },
  {
   "cell_type": "code",
   "execution_count": 158,
   "outputs": [],
   "source": [
    "#NYC_df2.to_csv('NYC_df2', index=False)\n",
    "#LA_df2.to_csv('LA_df2', index=False)\n",
    "#CHI_df2.to_csv('CHI_df2', index=False)\n",
    "\n",
    "#print('DONE!')"
   ],
   "metadata": {
    "collapsed": false,
    "pycharm": {
     "name": "#%%\n",
     "is_executing": false
    }
   }
  },
  {
   "cell_type": "code",
   "execution_count": 159,
   "outputs": [],
   "source": [
    "NYC_df2 = pd.read_csv('NYC_df2')\n",
    "LA_df2 = pd.read_csv('LA_df2')\n",
    "CHI_df2 = pd.read_csv('CHI_df2')"
   ],
   "metadata": {
    "collapsed": false,
    "pycharm": {
     "name": "#%%\n",
     "is_executing": false
    }
   }
  },
  {
   "cell_type": "markdown",
   "source": [
    "Cleaning DataFrames Again. Because of there were coordinates and location outside of the US. I believe this happened because of the limitations of the Nominatim Function."
   ],
   "metadata": {
    "collapsed": false,
    "pycharm": {
     "name": "#%% md\n"
    }
   }
  },
  {
   "cell_type": "code",
   "execution_count": 160,
   "outputs": [
    {
     "data": {
      "text/plain": "                 Neighborhood  zip_codes  \\\n0               Central Bronx      10453   \n1               Central Bronx      10457   \n3      Bronx Park and Fordham      10458   \n4      Bronx Park and Fordham      10467   \n5      Bronx Park and Fordham      10468   \n..                        ...        ...   \n173               South Shore      10312   \n174  Stapleton and St. George      10301   \n175  Stapleton and St. George      10304   \n176  Stapleton and St. George      10305   \n177                Mid-Island      10314   \n\n                                              location  \\\n0    The Bronx, Bronx County, New York, 10453, Unit...   \n1    The Bronx, Bronx County, New York, 10457, Unit...   \n3    The Bronx, Bronx County, New York, 10458, Unit...   \n4    The Bronx, Bronx County, New York, 10467, Unit...   \n5    The Bronx, Bronx County, New York, 10468, Unit...   \n..                                                 ...   \n173  Staten Island, Richmond County, New York, 1031...   \n174  Staten Island, Richmond County, New York, 1030...   \n175  Todt Hill, Staten Island, Richmond County, New...   \n176  Todt Hill, Staten Island, Richmond County, New...   \n177  Todt Hill, Staten Island, Richmond County, New...   \n\n                                            point  \n0    (40.85234385146179, -73.91196955537043, 0.0)  \n1    (40.84796417510888, -73.89770955547682, 0.0)  \n3    (40.86156201215534, -73.88877720559567, 0.0)  \n4    (40.87452493805371, -73.86794642958414, 0.0)  \n5                  (40.8710838, -73.8941052, 0.0)  \n..                                            ...  \n173               (40.5436525, -74.16830055, 0.0)  \n174        (40.63979875, -74.07574570091533, 0.0)  \n175                  (40.606031, -74.086625, 0.0)  \n176                  (40.609344, -74.076293, 0.0)  \n177                (40.6099942, -74.1478012, 0.0)  \n\n[137 rows x 4 columns]",
      "text/html": "<div>\n<style scoped>\n    .dataframe tbody tr th:only-of-type {\n        vertical-align: middle;\n    }\n\n    .dataframe tbody tr th {\n        vertical-align: top;\n    }\n\n    .dataframe thead th {\n        text-align: right;\n    }\n</style>\n<table border=\"1\" class=\"dataframe\">\n  <thead>\n    <tr style=\"text-align: right;\">\n      <th></th>\n      <th>Neighborhood</th>\n      <th>zip_codes</th>\n      <th>location</th>\n      <th>point</th>\n    </tr>\n  </thead>\n  <tbody>\n    <tr>\n      <th>0</th>\n      <td>Central Bronx</td>\n      <td>10453</td>\n      <td>The Bronx, Bronx County, New York, 10453, Unit...</td>\n      <td>(40.85234385146179, -73.91196955537043, 0.0)</td>\n    </tr>\n    <tr>\n      <th>1</th>\n      <td>Central Bronx</td>\n      <td>10457</td>\n      <td>The Bronx, Bronx County, New York, 10457, Unit...</td>\n      <td>(40.84796417510888, -73.89770955547682, 0.0)</td>\n    </tr>\n    <tr>\n      <th>3</th>\n      <td>Bronx Park and Fordham</td>\n      <td>10458</td>\n      <td>The Bronx, Bronx County, New York, 10458, Unit...</td>\n      <td>(40.86156201215534, -73.88877720559567, 0.0)</td>\n    </tr>\n    <tr>\n      <th>4</th>\n      <td>Bronx Park and Fordham</td>\n      <td>10467</td>\n      <td>The Bronx, Bronx County, New York, 10467, Unit...</td>\n      <td>(40.87452493805371, -73.86794642958414, 0.0)</td>\n    </tr>\n    <tr>\n      <th>5</th>\n      <td>Bronx Park and Fordham</td>\n      <td>10468</td>\n      <td>The Bronx, Bronx County, New York, 10468, Unit...</td>\n      <td>(40.8710838, -73.8941052, 0.0)</td>\n    </tr>\n    <tr>\n      <th>...</th>\n      <td>...</td>\n      <td>...</td>\n      <td>...</td>\n      <td>...</td>\n    </tr>\n    <tr>\n      <th>173</th>\n      <td>South Shore</td>\n      <td>10312</td>\n      <td>Staten Island, Richmond County, New York, 1031...</td>\n      <td>(40.5436525, -74.16830055, 0.0)</td>\n    </tr>\n    <tr>\n      <th>174</th>\n      <td>Stapleton and St. George</td>\n      <td>10301</td>\n      <td>Staten Island, Richmond County, New York, 1030...</td>\n      <td>(40.63979875, -74.07574570091533, 0.0)</td>\n    </tr>\n    <tr>\n      <th>175</th>\n      <td>Stapleton and St. George</td>\n      <td>10304</td>\n      <td>Todt Hill, Staten Island, Richmond County, New...</td>\n      <td>(40.606031, -74.086625, 0.0)</td>\n    </tr>\n    <tr>\n      <th>176</th>\n      <td>Stapleton and St. George</td>\n      <td>10305</td>\n      <td>Todt Hill, Staten Island, Richmond County, New...</td>\n      <td>(40.609344, -74.076293, 0.0)</td>\n    </tr>\n    <tr>\n      <th>177</th>\n      <td>Mid-Island</td>\n      <td>10314</td>\n      <td>Todt Hill, Staten Island, Richmond County, New...</td>\n      <td>(40.6099942, -74.1478012, 0.0)</td>\n    </tr>\n  </tbody>\n</table>\n<p>137 rows × 4 columns</p>\n</div>"
     },
     "metadata": {},
     "output_type": "execute_result",
     "execution_count": 160
    }
   ],
   "source": [
    "NYC_df2 = NYC_df2[NYC_df2.location.str.contains('New York')]\n",
    "NYC_df2"
   ],
   "metadata": {
    "collapsed": false,
    "pycharm": {
     "name": "#%%\n",
     "is_executing": false
    }
   }
  },
  {
   "cell_type": "code",
   "execution_count": 161,
   "outputs": [
    {
     "data": {
      "text/plain": "           Neighborhood zip_codes  \\\n0    Cathedral District     60611   \n1       Central Station     60605   \n2         Dearborn Park     60605   \n3            Gold Coast     60610   \n4            Gold Coast     60611   \n..                  ...       ...   \n355     Washington Park     60609   \n356     Washington Park     60615   \n357     Washington Park     60621   \n358     Washington Park     60637   \n359            Woodlawn     60637   \n\n                                              location  \\\n0    Near North Side, Chicago, Cook County, Illinoi...   \n1    Near South Side, Chicago, Cook County, Illinoi...   \n2    Near South Side, Chicago, Cook County, Illinoi...   \n3    Near North Side, Chicago, Cook County, Illinoi...   \n4    Near North Side, Chicago, Cook County, Illinoi...   \n..                                                 ...   \n355  Bridgeport, Chicago, Cook County, Illinois, 60...   \n356  Hyde Park, Chicago, Cook County, Illinois, 606...   \n357  Englewood, Chicago, Cook County, Illinois, 606...   \n358  Hyde Park, Chicago, Cook County, Illinois, 606...   \n359  Hyde Park, Chicago, Cook County, Illinois, 606...   \n\n                                            point  \n0    (41.89513283566048, -87.62281879221906, 0.0)  \n1                  (41.8658506, -87.6099423, 0.0)  \n2                  (41.8658506, -87.6099423, 0.0)  \n3                  (41.8884984, -87.6292815, 0.0)  \n4    (41.89513283566048, -87.62281879221906, 0.0)  \n..                                            ...  \n355                (41.8249226, -87.6381346, 0.0)  \n356  (41.80110300957798, -87.59432360924957, 0.0)  \n357   (41.7775939545224, -87.63663948181107, 0.0)  \n358                (41.7884978, -87.5793199, 0.0)  \n359                (41.7884978, -87.5793199, 0.0)  \n\n[171 rows x 4 columns]",
      "text/html": "<div>\n<style scoped>\n    .dataframe tbody tr th:only-of-type {\n        vertical-align: middle;\n    }\n\n    .dataframe tbody tr th {\n        vertical-align: top;\n    }\n\n    .dataframe thead th {\n        text-align: right;\n    }\n</style>\n<table border=\"1\" class=\"dataframe\">\n  <thead>\n    <tr style=\"text-align: right;\">\n      <th></th>\n      <th>Neighborhood</th>\n      <th>zip_codes</th>\n      <th>location</th>\n      <th>point</th>\n    </tr>\n  </thead>\n  <tbody>\n    <tr>\n      <th>0</th>\n      <td>Cathedral District</td>\n      <td>60611</td>\n      <td>Near North Side, Chicago, Cook County, Illinoi...</td>\n      <td>(41.89513283566048, -87.62281879221906, 0.0)</td>\n    </tr>\n    <tr>\n      <th>1</th>\n      <td>Central Station</td>\n      <td>60605</td>\n      <td>Near South Side, Chicago, Cook County, Illinoi...</td>\n      <td>(41.8658506, -87.6099423, 0.0)</td>\n    </tr>\n    <tr>\n      <th>2</th>\n      <td>Dearborn Park</td>\n      <td>60605</td>\n      <td>Near South Side, Chicago, Cook County, Illinoi...</td>\n      <td>(41.8658506, -87.6099423, 0.0)</td>\n    </tr>\n    <tr>\n      <th>3</th>\n      <td>Gold Coast</td>\n      <td>60610</td>\n      <td>Near North Side, Chicago, Cook County, Illinoi...</td>\n      <td>(41.8884984, -87.6292815, 0.0)</td>\n    </tr>\n    <tr>\n      <th>4</th>\n      <td>Gold Coast</td>\n      <td>60611</td>\n      <td>Near North Side, Chicago, Cook County, Illinoi...</td>\n      <td>(41.89513283566048, -87.62281879221906, 0.0)</td>\n    </tr>\n    <tr>\n      <th>...</th>\n      <td>...</td>\n      <td>...</td>\n      <td>...</td>\n      <td>...</td>\n    </tr>\n    <tr>\n      <th>355</th>\n      <td>Washington Park</td>\n      <td>60609</td>\n      <td>Bridgeport, Chicago, Cook County, Illinois, 60...</td>\n      <td>(41.8249226, -87.6381346, 0.0)</td>\n    </tr>\n    <tr>\n      <th>356</th>\n      <td>Washington Park</td>\n      <td>60615</td>\n      <td>Hyde Park, Chicago, Cook County, Illinois, 606...</td>\n      <td>(41.80110300957798, -87.59432360924957, 0.0)</td>\n    </tr>\n    <tr>\n      <th>357</th>\n      <td>Washington Park</td>\n      <td>60621</td>\n      <td>Englewood, Chicago, Cook County, Illinois, 606...</td>\n      <td>(41.7775939545224, -87.63663948181107, 0.0)</td>\n    </tr>\n    <tr>\n      <th>358</th>\n      <td>Washington Park</td>\n      <td>60637</td>\n      <td>Hyde Park, Chicago, Cook County, Illinois, 606...</td>\n      <td>(41.7884978, -87.5793199, 0.0)</td>\n    </tr>\n    <tr>\n      <th>359</th>\n      <td>Woodlawn</td>\n      <td>60637</td>\n      <td>Hyde Park, Chicago, Cook County, Illinois, 606...</td>\n      <td>(41.7884978, -87.5793199, 0.0)</td>\n    </tr>\n  </tbody>\n</table>\n<p>171 rows × 4 columns</p>\n</div>"
     },
     "metadata": {},
     "output_type": "execute_result",
     "execution_count": 161
    }
   ],
   "source": [
    "CHI_df2 = CHI_df2[CHI_df2.location.str.contains('Chicago')]\n",
    "CHI_df2"
   ],
   "metadata": {
    "collapsed": false,
    "pycharm": {
     "name": "#%%\n",
     "is_executing": false
    }
   }
  },
  {
   "cell_type": "markdown",
   "source": [
    "Due to NA/NULL values the same operation of filtering the data didnt work. So I had to drop them again. Possibly due to the limitations of Nominatim.\n"
   ],
   "metadata": {
    "collapsed": false,
    "pycharm": {
     "name": "#%% md\n"
    }
   }
  },
  {
   "cell_type": "code",
   "execution_count": 162,
   "outputs": [
    {
     "name": "stdout",
     "text": [
      "Neighborhood     0\n",
      "zip_codes        0\n",
      "location        88\n",
      "point           88\n",
      "dtype: int64\n",
      "Neighborhood     0\n",
      "zip_codes        0\n",
      "location        88\n",
      "point           88\n",
      "dtype: int64\n"
     ],
     "output_type": "stream"
    }
   ],
   "source": [
    "print(LA_df2.isna().sum())\n",
    "print(LA_df2.isnull().sum())"
   ],
   "metadata": {
    "collapsed": false,
    "pycharm": {
     "name": "#%%\n",
     "is_executing": false
    }
   }
  },
  {
   "cell_type": "code",
   "execution_count": 163,
   "outputs": [
    {
     "name": "stdout",
     "text": [
      "Neighborhood    0\n",
      "zip_codes       0\n",
      "location        0\n",
      "point           0\n",
      "dtype: int64\n",
      "Neighborhood    0\n",
      "zip_codes       0\n",
      "location        0\n",
      "point           0\n",
      "dtype: int64\n"
     ],
     "output_type": "stream"
    }
   ],
   "source": [
    "LA_df2.dropna(inplace=True)\n",
    "print(LA_df2.isna().sum())\n",
    "print(LA_df2.isnull().sum())"
   ],
   "metadata": {
    "collapsed": false,
    "pycharm": {
     "name": "#%%\n",
     "is_executing": false
    }
   }
  },
  {
   "cell_type": "code",
   "execution_count": 164,
   "outputs": [
    {
     "data": {
      "text/plain": "                       Neighborhood zip_codes  \\\n0                             Acton     93510   \n1                      Agoura Hills     91301   \n5                          Alhambra     91803   \n7               Alhambra (PO Boxes)     91802   \n10                         Altadena     91001   \n..                              ...       ...   \n956        Wilmington (Los Angeles)     90744   \n958   Wilshire Center (Los Angeles)     90004   \n966  Wilshire-La Brea (Los Angeles)     90036   \n968     Windsor Hills (Los Angeles)     90043   \n969    Windsor Square (Los Angeles)     90004   \n\n                                              location  \\\n0    Los Angeles County, California, 93510, United ...   \n1    Malibu Junction, Agoura Hills, Los Angeles Cou...   \n5    Alhambra, Los Angeles County, California, 9180...   \n7    Alhambra, Los Angeles County, California, 9180...   \n10   Linda Vista, Altadena, Los Angeles County, Cal...   \n..                                                 ...   \n956  Thenard, Los Angeles, Los Angeles County, Cali...   \n958  Los Angeles, Los Angeles County, California, 9...   \n966  Los Angeles, Los Angeles County, California, 9...   \n968  Los Angeles, Los Angeles County, California, 9...   \n969  Los Angeles, Los Angeles County, California, 9...   \n\n                                              point  \n0     (34.46103834645381, -118.21138549680546, 0.0)  \n1           (34.15295555, -118.75932802244274, 0.0)  \n5      (34.07170388325506, -118.1458605938974, 0.0)  \n7                   (34.0927825, -118.1263605, 0.0)  \n10                  (34.1900323, -118.1325732, 0.0)  \n..                                              ...  \n956                 (33.7933964, -118.2400379, 0.0)  \n958   (34.071844381995426, -118.3023158073664, 0.0)  \n966     (34.06737818754923, -118.352266061733, 0.0)  \n968  (33.992140810110676, -118.33125048227424, 0.0)  \n969   (34.071844381995426, -118.3023158073664, 0.0)  \n\n[480 rows x 4 columns]",
      "text/html": "<div>\n<style scoped>\n    .dataframe tbody tr th:only-of-type {\n        vertical-align: middle;\n    }\n\n    .dataframe tbody tr th {\n        vertical-align: top;\n    }\n\n    .dataframe thead th {\n        text-align: right;\n    }\n</style>\n<table border=\"1\" class=\"dataframe\">\n  <thead>\n    <tr style=\"text-align: right;\">\n      <th></th>\n      <th>Neighborhood</th>\n      <th>zip_codes</th>\n      <th>location</th>\n      <th>point</th>\n    </tr>\n  </thead>\n  <tbody>\n    <tr>\n      <th>0</th>\n      <td>Acton</td>\n      <td>93510</td>\n      <td>Los Angeles County, California, 93510, United ...</td>\n      <td>(34.46103834645381, -118.21138549680546, 0.0)</td>\n    </tr>\n    <tr>\n      <th>1</th>\n      <td>Agoura Hills</td>\n      <td>91301</td>\n      <td>Malibu Junction, Agoura Hills, Los Angeles Cou...</td>\n      <td>(34.15295555, -118.75932802244274, 0.0)</td>\n    </tr>\n    <tr>\n      <th>5</th>\n      <td>Alhambra</td>\n      <td>91803</td>\n      <td>Alhambra, Los Angeles County, California, 9180...</td>\n      <td>(34.07170388325506, -118.1458605938974, 0.0)</td>\n    </tr>\n    <tr>\n      <th>7</th>\n      <td>Alhambra (PO Boxes)</td>\n      <td>91802</td>\n      <td>Alhambra, Los Angeles County, California, 9180...</td>\n      <td>(34.0927825, -118.1263605, 0.0)</td>\n    </tr>\n    <tr>\n      <th>10</th>\n      <td>Altadena</td>\n      <td>91001</td>\n      <td>Linda Vista, Altadena, Los Angeles County, Cal...</td>\n      <td>(34.1900323, -118.1325732, 0.0)</td>\n    </tr>\n    <tr>\n      <th>...</th>\n      <td>...</td>\n      <td>...</td>\n      <td>...</td>\n      <td>...</td>\n    </tr>\n    <tr>\n      <th>956</th>\n      <td>Wilmington (Los Angeles)</td>\n      <td>90744</td>\n      <td>Thenard, Los Angeles, Los Angeles County, Cali...</td>\n      <td>(33.7933964, -118.2400379, 0.0)</td>\n    </tr>\n    <tr>\n      <th>958</th>\n      <td>Wilshire Center (Los Angeles)</td>\n      <td>90004</td>\n      <td>Los Angeles, Los Angeles County, California, 9...</td>\n      <td>(34.071844381995426, -118.3023158073664, 0.0)</td>\n    </tr>\n    <tr>\n      <th>966</th>\n      <td>Wilshire-La Brea (Los Angeles)</td>\n      <td>90036</td>\n      <td>Los Angeles, Los Angeles County, California, 9...</td>\n      <td>(34.06737818754923, -118.352266061733, 0.0)</td>\n    </tr>\n    <tr>\n      <th>968</th>\n      <td>Windsor Hills (Los Angeles)</td>\n      <td>90043</td>\n      <td>Los Angeles, Los Angeles County, California, 9...</td>\n      <td>(33.992140810110676, -118.33125048227424, 0.0)</td>\n    </tr>\n    <tr>\n      <th>969</th>\n      <td>Windsor Square (Los Angeles)</td>\n      <td>90004</td>\n      <td>Los Angeles, Los Angeles County, California, 9...</td>\n      <td>(34.071844381995426, -118.3023158073664, 0.0)</td>\n    </tr>\n  </tbody>\n</table>\n<p>480 rows × 4 columns</p>\n</div>"
     },
     "metadata": {},
     "output_type": "execute_result",
     "execution_count": 164
    }
   ],
   "source": [
    "LA_df2 = LA_df2[LA_df2.location.str.contains('Los Angeles')]\n",
    "LA_df2\n"
   ],
   "metadata": {
    "collapsed": false,
    "pycharm": {
     "name": "#%%\n",
     "is_executing": false
    }
   }
  },
  {
   "cell_type": "code",
   "execution_count": 165,
   "outputs": [
    {
     "name": "stdout",
     "text": [
      "Duplicates Removed!\n"
     ],
     "output_type": "stream"
    }
   ],
   "source": [
    "NYC_df2.drop_duplicates(subset= 'zip_codes', keep= False, inplace=True)\n",
    "LA_df2.drop_duplicates(subset= 'zip_codes', keep= False, inplace=True)\n",
    "CHI_df2.drop_duplicates(subset= 'zip_codes', keep= False, inplace=True)\n",
    "\n",
    "print('Duplicates Removed!')"
   ],
   "metadata": {
    "collapsed": false,
    "pycharm": {
     "name": "#%%\n",
     "is_executing": false
    }
   }
  },
  {
   "cell_type": "markdown",
   "source": [
    "Setting up for column split insteads of \"point\" it'll be  \"Latitude\" & \"Longitude\""
   ],
   "metadata": {
    "collapsed": false,
    "pycharm": {
     "name": "#%% md\n"
    }
   }
  },
  {
   "cell_type": "code",
   "execution_count": 166,
   "outputs": [],
   "source": [
    "NYC_df2=NYC_df2.replace('\\(','',regex=True).astype(str)\n",
    "NYC_df2=NYC_df2.replace('\\)','',regex=True).astype(str)\n",
    "NYC_df2=NYC_df2.replace('\\, 0.0','',regex=True).astype(str)\n",
    "\n",
    "LA_df2=LA_df2.replace('\\(','',regex=True).astype(str)\n",
    "LA_df2=LA_df2.replace('\\)','',regex=True).astype(str)\n",
    "LA_df2=LA_df2.replace('\\, 0.0','',regex=True).astype(str)\n",
    "\n",
    "CHI_df2=CHI_df2.replace('\\(','',regex=True).astype(str)\n",
    "CHI_df2=CHI_df2.replace('\\)','',regex=True).astype(str)\n",
    "CHI_df2=CHI_df2.replace('\\, 0.0','',regex=True).astype(str)"
   ],
   "metadata": {
    "collapsed": false,
    "pycharm": {
     "name": "#%%\n",
     "is_executing": false
    }
   }
  },
  {
   "cell_type": "code",
   "execution_count": 167,
   "outputs": [],
   "source": [
    "NYC_df2.reset_index(inplace=True)\n",
    "LA_df2.reset_index(inplace=True)\n",
    "CHI_df2.reset_index(inplace=True)"
   ],
   "metadata": {
    "collapsed": false,
    "pycharm": {
     "name": "#%%\n",
     "is_executing": false
    }
   }
  },
  {
   "cell_type": "markdown",
   "source": [
    "Made new DataFrame with Lat and Long values"
   ],
   "metadata": {
    "collapsed": false,
    "pycharm": {
     "name": "#%% md\n"
    }
   }
  },
  {
   "cell_type": "code",
   "execution_count": 168,
   "outputs": [],
   "source": [
    "NYC_df2.drop(['index'], axis=1, inplace= True)\n",
    "LA_df2.drop(['index'], axis=1, inplace= True)\n",
    "CHI_df2.drop(['index'], axis=1, inplace= True)"
   ],
   "metadata": {
    "collapsed": false,
    "pycharm": {
     "name": "#%%\n",
     "is_executing": false
    }
   }
  },
  {
   "cell_type": "code",
   "execution_count": 169,
   "outputs": [],
   "source": [
    "split_df1 = NYC_df2['point'].str.split(\",\")\n",
    "data1 = split_df1.to_list()\n",
    "names1 = ['Latitude', 'Longitude']\n",
    "M1_df = pd.DataFrame(data1, columns=names1)"
   ],
   "metadata": {
    "collapsed": false,
    "pycharm": {
     "name": "#%%\n",
     "is_executing": false
    }
   }
  },
  {
   "cell_type": "code",
   "execution_count": 170,
   "outputs": [],
   "source": [
    "split_df2 = LA_df2['point'].str.split(\",\")\n",
    "data2 = split_df2.to_list()\n",
    "names2 = ['Latitude', 'Longitude']\n",
    "M2_df = pd.DataFrame(data2, columns=names2)"
   ],
   "metadata": {
    "collapsed": false,
    "pycharm": {
     "name": "#%%\n",
     "is_executing": false
    }
   }
  },
  {
   "cell_type": "code",
   "execution_count": 171,
   "outputs": [],
   "source": [
    "split_df3 = CHI_df2['point'].str.split(\",\")\n",
    "data3 = split_df3.to_list()\n",
    "names3 = ['Latitude', 'Longitude']\n",
    "M3_df = pd.DataFrame(data3, columns=names3)"
   ],
   "metadata": {
    "collapsed": false,
    "pycharm": {
     "name": "#%%\n",
     "is_executing": false
    }
   }
  },
  {
   "cell_type": "code",
   "execution_count": 172,
   "outputs": [
    {
     "name": "stdout",
     "text": [
      "Concatenated objects\n"
     ],
     "output_type": "stream"
    }
   ],
   "source": [
    "NYC_df3 = pd.concat([NYC_df2, M1_df], axis=1, join='inner')\n",
    "LA_df3 = pd.concat([LA_df2, M2_df], axis=1, join='inner')\n",
    "CHI_df3 = pd.concat([CHI_df2, M3_df], axis=1, join='inner')\n",
    "\n",
    "print('Concatenated objects')"
   ],
   "metadata": {
    "collapsed": false,
    "pycharm": {
     "name": "#%%\n",
     "is_executing": false
    }
   }
  },
  {
   "cell_type": "code",
   "execution_count": 173,
   "outputs": [
    {
     "name": "stdout",
     "text": [
      "Columns Dropped!\n"
     ],
     "output_type": "stream"
    }
   ],
   "source": [
    "NYC_df3.drop(['point'], axis=1, inplace= True)\n",
    "LA_df3.drop(['point'], axis=1, inplace= True)\n",
    "CHI_df3.drop(['point'], axis=1, inplace= True)\n",
    "\n",
    "print(\"Columns Dropped!\")"
   ],
   "metadata": {
    "collapsed": false,
    "pycharm": {
     "name": "#%%\n",
     "is_executing": false
    }
   }
  },
  {
   "cell_type": "code",
   "execution_count": null,
   "outputs": [],
   "source": [
    "\n"
   ],
   "metadata": {
    "collapsed": false,
    "pycharm": {
     "name": "#%%\n"
    }
   }
  }
 ],
 "metadata": {
  "kernelspec": {
   "display_name": "Python 3",
   "language": "python",
   "name": "python3"
  },
  "language_info": {
   "codemirror_mode": {
    "name": "ipython",
    "version": 2
   },
   "file_extension": ".py",
   "mimetype": "text/x-python",
   "name": "python",
   "nbconvert_exporter": "python",
   "pygments_lexer": "ipython2",
   "version": "2.7.6"
  },
  "pycharm": {
   "stem_cell": {
    "cell_type": "raw",
    "source": [],
    "metadata": {
     "collapsed": false
    }
   }
  }
 },
 "nbformat": 4,
 "nbformat_minor": 0
}