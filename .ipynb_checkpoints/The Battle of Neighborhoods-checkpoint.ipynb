{
 "cells": [
  {
   "cell_type": "markdown",
   "metadata": {},
   "source": [
    "# The Battle of Neighborhoods"
   ]
  },
  {
   "cell_type": "code",
   "execution_count": 1,
   "metadata": {
    "pycharm": {
     "is_executing": false,
     "name": "#%%\n"
    }
   },
   "outputs": [
    {
     "name": "stdout",
     "output_type": "stream",
     "text": [
      "Modules Imported!\n"
     ]
    }
   ],
   "source": [
    "import pandas as pd # Data Analysis\n",
    "import numpy as np # Handles Data in a Vectorized Manner\n",
    "import requests #handles requests\n",
    "import folium # Plotting\n",
    "from geopy.geocoders import Nominatim # address to Latitude and Longitude\n",
    "from geopy.extra.rate_limiter import RateLimiter # reduces the \"Too Many Requests Error\"\n",
    "from bs4 import BeautifulSoup # web scraping\n",
    "\n",
    "\n",
    "print('Modules Imported!')"
   ]
  },
  {
   "cell_type": "code",
   "execution_count": 2,
   "metadata": {
    "pycharm": {
     "is_executing": false,
     "name": "#%%\n"
    }
   },
   "outputs": [],
   "source": [
    "# Web Sources for scraping\n",
    "\n",
    "NYC_url = 'https://www.health.ny.gov/statistics/cancer/registry/appendix/neighborhoods.htm'\n",
    "LA_url = 'http://www.laalmanac.com/communications/cm02_communities.php'\n",
    "CHI_url = 'https://www.seechicagorealestate.com/chicago-zip-codes-by-neighborhood.php'"
   ]
  },
  {
   "cell_type": "markdown",
   "metadata": {
    "pycharm": {
     "name": "#%% md\n"
    }
   },
   "source": [
    "## Web Scraping and setting up DataFrames"
   ]
  },
  {
   "cell_type": "markdown",
   "metadata": {
    "pycharm": {
     "name": "#%% md\n"
    }
   },
   "source": [
    "New York City"
   ]
  },
  {
   "cell_type": "code",
   "execution_count": 3,
   "metadata": {
    "pycharm": {
     "is_executing": false,
     "name": "#%%\n"
    }
   },
   "outputs": [
    {
     "name": "stdout",
     "output_type": "stream",
     "text": [
      "(42, 3) \n",
      "   Borough                Neighborhood                   ZIP Codes\n",
      "0   Bronx               Central Bronx         10453, 10457, 10460\n",
      "1   Bronx      Bronx Park and Fordham         10458, 10467, 10468\n",
      "2   Bronx  High Bridge and Morrisania         10451, 10452, 10456\n",
      "3   Bronx  Hunts Point and Mott Haven  10454, 10455, 10459, 10474\n",
      "4   Bronx   Kingsbridge and Riverdale                10463, 10471\n"
     ]
    }
   ],
   "source": [
    "source1 = requests.get(NYC_url).text\n",
    "soup1 = BeautifulSoup(source1,'lxml')\n",
    "table1 = soup1.find('table')\n",
    "\n",
    "readme_html1 = pd.read_html(str(table1))\n",
    "NYC_df = pd.DataFrame(readme_html1[0])\n",
    "print(NYC_df.shape, '\\n', NYC_df.head())"
   ]
  },
  {
   "cell_type": "markdown",
   "metadata": {
    "pycharm": {
     "name": "#%% md\n"
    }
   },
   "source": [
    "Los Angeles "
   ]
  },
  {
   "cell_type": "code",
   "execution_count": 4,
   "metadata": {
    "pycharm": {
     "is_executing": false,
     "name": "#%%\n"
    }
   },
   "outputs": [
    {
     "name": "stdout",
     "output_type": "stream",
     "text": [
      "(643, 2) \n",
      "             City/Community   Zip Code(s)\n",
      "0                    Acton         93510\n",
      "1             Agoura Hills         91301\n",
      "2  Agoura Hills (PO Boxes)         91376\n",
      "3               Agua Dulce         91390\n",
      "4                 Alhambra  91801, 91803\n"
     ]
    }
   ],
   "source": [
    "source2 = requests.get(LA_url).text\n",
    "soup2 = BeautifulSoup(source2, 'lxml')\n",
    "table2 = soup2.find('table')\n",
    "\n",
    "readme_html2 = pd.read_html(str(table2))\n",
    "LA_df = pd.DataFrame(readme_html2[0])\n",
    "print(LA_df.shape, '\\n', LA_df.head())"
   ]
  },
  {
   "cell_type": "markdown",
   "metadata": {
    "pycharm": {
     "name": "#%% md\n"
    }
   },
   "source": [
    "Chicago"
   ]
  },
  {
   "cell_type": "code",
   "execution_count": 5,
   "metadata": {
    "pycharm": {
     "is_executing": false,
     "name": "#%%\n"
    }
   },
   "outputs": [
    {
     "name": "stdout",
     "output_type": "stream",
     "text": [
      "(199, 2) \n",
      "                     0             1\n",
      "0            Downtown      Zip Code\n",
      "1  Cathedral District         60611\n",
      "2     Central Station         60605\n",
      "3       Dearborn Park         60605\n",
      "4          Gold Coast  60610, 60611\n"
     ]
    }
   ],
   "source": [
    "source3 = requests.get(CHI_url).text\n",
    "soup3 = BeautifulSoup(source3, 'lxml')\n",
    "table3 = soup3.find('table')\n",
    "\n",
    "readme_html3 = pd.read_html(str(table3))\n",
    "CHI_df = pd.DataFrame(readme_html3[0])\n",
    "print(CHI_df.shape, '\\n', CHI_df.head())"
   ]
  },
  {
   "cell_type": "markdown",
   "metadata": {
    "pycharm": {
     "name": "#%% md\n"
    }
   },
   "source": [
    "Renaming columns to be consistent through each DataFrame"
   ]
  },
  {
   "cell_type": "code",
   "execution_count": 6,
   "metadata": {
    "pycharm": {
     "is_executing": false,
     "name": "#%%\n"
    }
   },
   "outputs": [
    {
     "name": "stdout",
     "output_type": "stream",
     "text": [
      "['Borough', 'Neighborhood', 'zip_codes']\n",
      "['Neighborhood', 'zip_codes']\n",
      "['Neighborhood', 'zip_codes']\n"
     ]
    }
   ],
   "source": [
    "NYC_df.rename(columns={'ZIP Codes': 'zip_codes'}, inplace=True)\n",
    "LA_df.rename(columns={'City/Community': 'Neighborhood', 'Zip Code(s)': 'zip_codes'}, inplace=True)\n",
    "CHI_df.columns = ['Neighborhood','zip_codes']\n",
    "\n",
    "print(list(NYC_df.columns))\n",
    "print(list(LA_df.columns))\n",
    "print(list(CHI_df.columns))"
   ]
  },
  {
   "cell_type": "markdown",
   "metadata": {
    "pycharm": {
     "name": "#%% md\n"
    }
   },
   "source": [
    "## Cleaning DataFrames"
   ]
  },
  {
   "cell_type": "code",
   "execution_count": 7,
   "metadata": {
    "pycharm": {
     "is_executing": false,
     "name": "#%%\n"
    }
   },
   "outputs": [
    {
     "name": "stdout",
     "output_type": "stream",
     "text": [
      "Borough         0\n",
      "Neighborhood    0\n",
      "zip_codes       0\n",
      "dtype: int64\n",
      "Borough         0\n",
      "Neighborhood    0\n",
      "zip_codes       0\n",
      "dtype: int64\n",
      "\n",
      "\n",
      "Neighborhood    0\n",
      "zip_codes       0\n",
      "dtype: int64\n",
      "Neighborhood    0\n",
      "zip_codes       0\n",
      "dtype: int64\n",
      "\n",
      "\n",
      "Neighborhood    7\n",
      "zip_codes       7\n",
      "dtype: int64\n",
      "Neighborhood    7\n",
      "zip_codes       7\n",
      "dtype: int64\n"
     ]
    }
   ],
   "source": [
    "#Checking NA and NULLs in each DataFrame\n",
    "\n",
    "print(NYC_df.isna().sum())\n",
    "print(NYC_df.isnull().sum())\n",
    "print('\\n')\n",
    "print(LA_df.isna().sum())\n",
    "print(LA_df.isnull().sum())\n",
    "print('\\n')\n",
    "print(CHI_df.isna().sum())\n",
    "print(CHI_df.isnull().sum())"
   ]
  },
  {
   "cell_type": "code",
   "execution_count": 8,
   "metadata": {
    "pycharm": {
     "is_executing": false,
     "name": "#%%\n"
    }
   },
   "outputs": [],
   "source": [
    "#Investigating the CHI DataFrame\n",
    "\n",
    "#pd.set_option('display.max_rows', None)\n",
    "#pd.set_option('display.max_columns', None)\n",
    "#pd.set_option('display.width', None)\n",
    "#pd.set_option('display.max_colwidth', -1)\n",
    "#CHI_df"
   ]
  },
  {
   "cell_type": "code",
   "execution_count": 9,
   "metadata": {
    "pycharm": {
     "is_executing": false,
     "name": "#%%\n"
    }
   },
   "outputs": [
    {
     "name": "stdout",
     "output_type": "stream",
     "text": [
      "Neighborhood    0\n",
      "zip_codes       0\n",
      "dtype: int64\n",
      "Neighborhood    0\n",
      "zip_codes       0\n",
      "dtype: int64\n"
     ]
    }
   ],
   "source": [
    "CHI_df.dropna(inplace=True)\n",
    "print(CHI_df.isna().sum())\n",
    "print(CHI_df.isnull().sum())"
   ]
  },
  {
   "cell_type": "markdown",
   "metadata": {
    "pycharm": {
     "name": "#%% md\n"
    }
   },
   "source": [
    "### Exploding DataFrame by its ZIP Code"
   ]
  },
  {
   "cell_type": "markdown",
   "metadata": {
    "pycharm": {
     "name": "#%% md\n"
    }
   },
   "source": [
    "since there are multiple zip codes for each neighborhood, I need to separate them so the the geo locator can locate each zipcode"
   ]
  },
  {
   "cell_type": "code",
   "execution_count": 10,
   "metadata": {
    "pycharm": {
     "is_executing": false,
     "name": "#%%\n"
    }
   },
   "outputs": [
    {
     "data": {
      "text/html": [
       "<div>\n",
       "<style scoped>\n",
       "    .dataframe tbody tr th:only-of-type {\n",
       "        vertical-align: middle;\n",
       "    }\n",
       "\n",
       "    .dataframe tbody tr th {\n",
       "        vertical-align: top;\n",
       "    }\n",
       "\n",
       "    .dataframe thead th {\n",
       "        text-align: right;\n",
       "    }\n",
       "</style>\n",
       "<table border=\"1\" class=\"dataframe\">\n",
       "  <thead>\n",
       "    <tr style=\"text-align: right;\">\n",
       "      <th></th>\n",
       "      <th>Neighborhood</th>\n",
       "      <th>zip_codes</th>\n",
       "    </tr>\n",
       "  </thead>\n",
       "  <tbody>\n",
       "    <tr>\n",
       "      <th>0</th>\n",
       "      <td>Central Bronx</td>\n",
       "      <td>10453</td>\n",
       "    </tr>\n",
       "    <tr>\n",
       "      <th>1</th>\n",
       "      <td>Central Bronx</td>\n",
       "      <td>10457</td>\n",
       "    </tr>\n",
       "    <tr>\n",
       "      <th>2</th>\n",
       "      <td>Central Bronx</td>\n",
       "      <td>10460</td>\n",
       "    </tr>\n",
       "    <tr>\n",
       "      <th>3</th>\n",
       "      <td>Bronx Park and Fordham</td>\n",
       "      <td>10458</td>\n",
       "    </tr>\n",
       "    <tr>\n",
       "      <th>4</th>\n",
       "      <td>Bronx Park and Fordham</td>\n",
       "      <td>10467</td>\n",
       "    </tr>\n",
       "    <tr>\n",
       "      <th>...</th>\n",
       "      <td>...</td>\n",
       "      <td>...</td>\n",
       "    </tr>\n",
       "    <tr>\n",
       "      <th>173</th>\n",
       "      <td>South Shore</td>\n",
       "      <td>10312</td>\n",
       "    </tr>\n",
       "    <tr>\n",
       "      <th>174</th>\n",
       "      <td>Stapleton and St. George</td>\n",
       "      <td>10301</td>\n",
       "    </tr>\n",
       "    <tr>\n",
       "      <th>175</th>\n",
       "      <td>Stapleton and St. George</td>\n",
       "      <td>10304</td>\n",
       "    </tr>\n",
       "    <tr>\n",
       "      <th>176</th>\n",
       "      <td>Stapleton and St. George</td>\n",
       "      <td>10305</td>\n",
       "    </tr>\n",
       "    <tr>\n",
       "      <th>177</th>\n",
       "      <td>Mid-Island</td>\n",
       "      <td>10314</td>\n",
       "    </tr>\n",
       "  </tbody>\n",
       "</table>\n",
       "<p>178 rows × 2 columns</p>\n",
       "</div>"
      ],
      "text/plain": [
       "                 Neighborhood zip_codes\n",
       "0               Central Bronx     10453\n",
       "1               Central Bronx     10457\n",
       "2               Central Bronx     10460\n",
       "3      Bronx Park and Fordham     10458\n",
       "4      Bronx Park and Fordham     10467\n",
       "..                        ...       ...\n",
       "173               South Shore     10312\n",
       "174  Stapleton and St. George     10301\n",
       "175  Stapleton and St. George     10304\n",
       "176  Stapleton and St. George     10305\n",
       "177                Mid-Island     10314\n",
       "\n",
       "[178 rows x 2 columns]"
      ]
     },
     "execution_count": 10,
     "metadata": {},
     "output_type": "execute_result"
    }
   ],
   "source": [
    "new_df1 = pd.DataFrame(NYC_df.zip_codes.str.split(',').tolist(), index= NYC_df.Neighborhood).stack()\n",
    "new_df1 = new_df1.reset_index([0, 'Neighborhood'])\n",
    "NYC_df2 = new_df1\n",
    "NYC_df2.columns = ['Neighborhood','zip_codes']\n",
    "NYC_df2"
   ]
  },
  {
   "cell_type": "code",
   "execution_count": 11,
   "metadata": {
    "pycharm": {
     "is_executing": false,
     "name": "#%%\n"
    }
   },
   "outputs": [
    {
     "data": {
      "text/html": [
       "<div>\n",
       "<style scoped>\n",
       "    .dataframe tbody tr th:only-of-type {\n",
       "        vertical-align: middle;\n",
       "    }\n",
       "\n",
       "    .dataframe tbody tr th {\n",
       "        vertical-align: top;\n",
       "    }\n",
       "\n",
       "    .dataframe thead th {\n",
       "        text-align: right;\n",
       "    }\n",
       "</style>\n",
       "<table border=\"1\" class=\"dataframe\">\n",
       "  <thead>\n",
       "    <tr style=\"text-align: right;\">\n",
       "      <th></th>\n",
       "      <th>Neighborhood</th>\n",
       "      <th>zip_codes</th>\n",
       "    </tr>\n",
       "  </thead>\n",
       "  <tbody>\n",
       "    <tr>\n",
       "      <th>0</th>\n",
       "      <td>Acton</td>\n",
       "      <td>93510</td>\n",
       "    </tr>\n",
       "    <tr>\n",
       "      <th>1</th>\n",
       "      <td>Agoura Hills</td>\n",
       "      <td>91301</td>\n",
       "    </tr>\n",
       "    <tr>\n",
       "      <th>2</th>\n",
       "      <td>Agoura Hills (PO Boxes)</td>\n",
       "      <td>91376</td>\n",
       "    </tr>\n",
       "    <tr>\n",
       "      <th>3</th>\n",
       "      <td>Agua Dulce</td>\n",
       "      <td>91390</td>\n",
       "    </tr>\n",
       "    <tr>\n",
       "      <th>4</th>\n",
       "      <td>Alhambra</td>\n",
       "      <td>91801</td>\n",
       "    </tr>\n",
       "    <tr>\n",
       "      <th>...</th>\n",
       "      <td>...</td>\n",
       "      <td>...</td>\n",
       "    </tr>\n",
       "    <tr>\n",
       "      <th>975</th>\n",
       "      <td>Woodland Hills (Los Angeles)</td>\n",
       "      <td>91364</td>\n",
       "    </tr>\n",
       "    <tr>\n",
       "      <th>976</th>\n",
       "      <td>Woodland Hills (Los Angeles)</td>\n",
       "      <td>91367</td>\n",
       "    </tr>\n",
       "    <tr>\n",
       "      <th>977</th>\n",
       "      <td>Woodland Hills (PO Boxes) (Los Angeles)</td>\n",
       "      <td>91365</td>\n",
       "    </tr>\n",
       "    <tr>\n",
       "      <th>978</th>\n",
       "      <td>Woodland Hills (PO Boxes) (Los Angeles)</td>\n",
       "      <td>91372</td>\n",
       "    </tr>\n",
       "    <tr>\n",
       "      <th>979</th>\n",
       "      <td>Woodland Hills/Pierce College (Los Angeles)</td>\n",
       "      <td>91371</td>\n",
       "    </tr>\n",
       "  </tbody>\n",
       "</table>\n",
       "<p>980 rows × 2 columns</p>\n",
       "</div>"
      ],
      "text/plain": [
       "                                    Neighborhood zip_codes\n",
       "0                                          Acton     93510\n",
       "1                                   Agoura Hills     91301\n",
       "2                        Agoura Hills (PO Boxes)     91376\n",
       "3                                     Agua Dulce     91390\n",
       "4                                       Alhambra     91801\n",
       "..                                           ...       ...\n",
       "975                 Woodland Hills (Los Angeles)     91364\n",
       "976                 Woodland Hills (Los Angeles)     91367\n",
       "977      Woodland Hills (PO Boxes) (Los Angeles)     91365\n",
       "978      Woodland Hills (PO Boxes) (Los Angeles)     91372\n",
       "979  Woodland Hills/Pierce College (Los Angeles)     91371\n",
       "\n",
       "[980 rows x 2 columns]"
      ]
     },
     "execution_count": 11,
     "metadata": {},
     "output_type": "execute_result"
    }
   ],
   "source": [
    "new_df2 = pd.DataFrame(LA_df.zip_codes.str.split(',').tolist(), index= LA_df.Neighborhood).stack()\n",
    "new_df2 = new_df2.reset_index([0, 'Neighborhood'])\n",
    "LA_df2 = new_df2\n",
    "LA_df2.columns = ['Neighborhood','zip_codes']\n",
    "LA_df2"
   ]
  },
  {
   "cell_type": "code",
   "execution_count": 12,
   "metadata": {
    "pycharm": {
     "is_executing": false,
     "name": "#%%\n"
    }
   },
   "outputs": [
    {
     "data": {
      "text/html": [
       "<div>\n",
       "<style scoped>\n",
       "    .dataframe tbody tr th:only-of-type {\n",
       "        vertical-align: middle;\n",
       "    }\n",
       "\n",
       "    .dataframe tbody tr th {\n",
       "        vertical-align: top;\n",
       "    }\n",
       "\n",
       "    .dataframe thead th {\n",
       "        text-align: right;\n",
       "    }\n",
       "</style>\n",
       "<table border=\"1\" class=\"dataframe\">\n",
       "  <thead>\n",
       "    <tr style=\"text-align: right;\">\n",
       "      <th></th>\n",
       "      <th>Neighborhood</th>\n",
       "      <th>zip_codes</th>\n",
       "    </tr>\n",
       "  </thead>\n",
       "  <tbody>\n",
       "    <tr>\n",
       "      <th>0</th>\n",
       "      <td>Cathedral District</td>\n",
       "      <td>60611</td>\n",
       "    </tr>\n",
       "    <tr>\n",
       "      <th>1</th>\n",
       "      <td>Central Station</td>\n",
       "      <td>60605</td>\n",
       "    </tr>\n",
       "    <tr>\n",
       "      <th>2</th>\n",
       "      <td>Dearborn Park</td>\n",
       "      <td>60605</td>\n",
       "    </tr>\n",
       "    <tr>\n",
       "      <th>3</th>\n",
       "      <td>Gold Coast</td>\n",
       "      <td>60610</td>\n",
       "    </tr>\n",
       "    <tr>\n",
       "      <th>4</th>\n",
       "      <td>Gold Coast</td>\n",
       "      <td>60611</td>\n",
       "    </tr>\n",
       "    <tr>\n",
       "      <th>...</th>\n",
       "      <td>...</td>\n",
       "      <td>...</td>\n",
       "    </tr>\n",
       "    <tr>\n",
       "      <th>355</th>\n",
       "      <td>Washington Park</td>\n",
       "      <td>60609</td>\n",
       "    </tr>\n",
       "    <tr>\n",
       "      <th>356</th>\n",
       "      <td>Washington Park</td>\n",
       "      <td>60615</td>\n",
       "    </tr>\n",
       "    <tr>\n",
       "      <th>357</th>\n",
       "      <td>Washington Park</td>\n",
       "      <td>60621</td>\n",
       "    </tr>\n",
       "    <tr>\n",
       "      <th>358</th>\n",
       "      <td>Washington Park</td>\n",
       "      <td>60637</td>\n",
       "    </tr>\n",
       "    <tr>\n",
       "      <th>359</th>\n",
       "      <td>Woodlawn</td>\n",
       "      <td>60637</td>\n",
       "    </tr>\n",
       "  </tbody>\n",
       "</table>\n",
       "<p>360 rows × 2 columns</p>\n",
       "</div>"
      ],
      "text/plain": [
       "           Neighborhood zip_codes\n",
       "0    Cathedral District     60611\n",
       "1       Central Station     60605\n",
       "2         Dearborn Park     60605\n",
       "3            Gold Coast     60610\n",
       "4            Gold Coast     60611\n",
       "..                  ...       ...\n",
       "355     Washington Park     60609\n",
       "356     Washington Park     60615\n",
       "357     Washington Park     60621\n",
       "358     Washington Park     60637\n",
       "359            Woodlawn     60637\n",
       "\n",
       "[360 rows x 2 columns]"
      ]
     },
     "execution_count": 12,
     "metadata": {},
     "output_type": "execute_result"
    }
   ],
   "source": [
    "new_df3 = pd.DataFrame(CHI_df.zip_codes.str.split(',').tolist(), index= CHI_df.Neighborhood).stack()\n",
    "new_df3 = new_df3.reset_index([0, 'Neighborhood'])\n",
    "new_df3.drop(new_df3.index[0], inplace=True)\n",
    "new_df3.reset_index(inplace=True)\n",
    "CHI_df2 = new_df3\n",
    "CHI_df2.columns = ['old index' , 'Neighborhood','zip_codes']\n",
    "CHI_df2.drop(['old index'], axis=1, inplace= True)\n",
    "CHI_df2"
   ]
  },
  {
   "cell_type": "markdown",
   "metadata": {
    "pycharm": {
     "name": "#%% md\n"
    }
   },
   "source": [
    "## Finding Geo Coordinates for each ZIP Code"
   ]
  },
  {
   "cell_type": "code",
   "execution_count": 13,
   "metadata": {
    "pycharm": {
     "is_executing": false,
     "name": "#%%\n"
    }
   },
   "outputs": [],
   "source": [
    "#geolocator = Nominatim(user_agent='google_agent')\n",
    "#geocode = RateLimiter(geolocator.geocode, min_delay_seconds=1)\n",
    "#NYC_df2['location'] = NYC_df2['zip_codes'].apply(geocode)\n",
    "\n",
    "#NYC_df2['point'] = NYC_df2['location'].apply(lambda loc: tuple(loc.point) if loc else None)\n",
    "\n",
    "#print('DONE!')"
   ]
  },
  {
   "cell_type": "code",
   "execution_count": 14,
   "metadata": {
    "pycharm": {
     "is_executing": false,
     "name": "#%%\n"
    }
   },
   "outputs": [],
   "source": [
    "#LA_df2['location'] = LA_df2['zip_codes'].apply(geocode)\n",
    "\n",
    "#LA_df2['point'] = LA_df2['location'].apply(lambda loc: tuple(loc.point) if loc else None)\n",
    "\n",
    "#print('DONE!')"
   ]
  },
  {
   "cell_type": "code",
   "execution_count": 15,
   "metadata": {
    "pycharm": {
     "is_executing": false,
     "name": "#%%\n"
    }
   },
   "outputs": [],
   "source": [
    "#CHI_df2['location'] = CHI_df2['zip_codes'].apply(geocode)\n",
    "\n",
    "#CHI_df2['point'] = CHI_df2['location'].apply(lambda loc: tuple(loc.point) if loc else None)\n",
    "\n",
    "#print('DONE!')"
   ]
  },
  {
   "cell_type": "markdown",
   "metadata": {
    "pycharm": {
     "name": "#%% md\n"
    }
   },
   "source": [
    "Saving results so that I dont have to re run the code each time. Takes a while to find to reduce the \"Too Many Requests Error\""
   ]
  },
  {
   "cell_type": "code",
   "execution_count": 16,
   "metadata": {
    "pycharm": {
     "is_executing": false,
     "name": "#%%\n"
    }
   },
   "outputs": [],
   "source": [
    "#NYC_df2.to_csv('NYC_df2', index=False)\n",
    "#LA_df2.to_csv('LA_df2', index=False)\n",
    "#CHI_df2.to_csv('CHI_df2', index=False)\n",
    "\n",
    "#print('DONE!')"
   ]
  },
  {
   "cell_type": "code",
   "execution_count": 17,
   "metadata": {
    "pycharm": {
     "is_executing": false,
     "name": "#%%\n"
    }
   },
   "outputs": [],
   "source": [
    "NYC_df2 = pd.read_csv('NYC_df2')\n",
    "LA_df2 = pd.read_csv('LA_df2')\n",
    "CHI_df2 = pd.read_csv('CHI_df2')"
   ]
  },
  {
   "cell_type": "markdown",
   "metadata": {
    "pycharm": {
     "name": "#%% md\n"
    }
   },
   "source": [
    "Cleaning DataFrames Again. Because of there were coordinates and location outside of the US. I believe this happened because of the limitations of the Nominatim Function."
   ]
  },
  {
   "cell_type": "code",
   "execution_count": 18,
   "metadata": {
    "pycharm": {
     "is_executing": false,
     "name": "#%%\n"
    }
   },
   "outputs": [
    {
     "data": {
      "text/html": [
       "<div>\n",
       "<style scoped>\n",
       "    .dataframe tbody tr th:only-of-type {\n",
       "        vertical-align: middle;\n",
       "    }\n",
       "\n",
       "    .dataframe tbody tr th {\n",
       "        vertical-align: top;\n",
       "    }\n",
       "\n",
       "    .dataframe thead th {\n",
       "        text-align: right;\n",
       "    }\n",
       "</style>\n",
       "<table border=\"1\" class=\"dataframe\">\n",
       "  <thead>\n",
       "    <tr style=\"text-align: right;\">\n",
       "      <th></th>\n",
       "      <th>Neighborhood</th>\n",
       "      <th>zip_codes</th>\n",
       "      <th>location</th>\n",
       "      <th>point</th>\n",
       "    </tr>\n",
       "  </thead>\n",
       "  <tbody>\n",
       "    <tr>\n",
       "      <th>0</th>\n",
       "      <td>Central Bronx</td>\n",
       "      <td>10453</td>\n",
       "      <td>The Bronx, Bronx County, New York, 10453, Unit...</td>\n",
       "      <td>(40.85234385146179, -73.91196955537043, 0.0)</td>\n",
       "    </tr>\n",
       "    <tr>\n",
       "      <th>1</th>\n",
       "      <td>Central Bronx</td>\n",
       "      <td>10457</td>\n",
       "      <td>The Bronx, Bronx County, New York, 10457, Unit...</td>\n",
       "      <td>(40.84796417510888, -73.89770955547682, 0.0)</td>\n",
       "    </tr>\n",
       "    <tr>\n",
       "      <th>3</th>\n",
       "      <td>Bronx Park and Fordham</td>\n",
       "      <td>10458</td>\n",
       "      <td>The Bronx, Bronx County, New York, 10458, Unit...</td>\n",
       "      <td>(40.86156201215534, -73.88877720559567, 0.0)</td>\n",
       "    </tr>\n",
       "    <tr>\n",
       "      <th>4</th>\n",
       "      <td>Bronx Park and Fordham</td>\n",
       "      <td>10467</td>\n",
       "      <td>The Bronx, Bronx County, New York, 10467, Unit...</td>\n",
       "      <td>(40.87452493805371, -73.86794642958414, 0.0)</td>\n",
       "    </tr>\n",
       "    <tr>\n",
       "      <th>5</th>\n",
       "      <td>Bronx Park and Fordham</td>\n",
       "      <td>10468</td>\n",
       "      <td>The Bronx, Bronx County, New York, 10468, Unit...</td>\n",
       "      <td>(40.8710838, -73.8941052, 0.0)</td>\n",
       "    </tr>\n",
       "    <tr>\n",
       "      <th>...</th>\n",
       "      <td>...</td>\n",
       "      <td>...</td>\n",
       "      <td>...</td>\n",
       "      <td>...</td>\n",
       "    </tr>\n",
       "    <tr>\n",
       "      <th>173</th>\n",
       "      <td>South Shore</td>\n",
       "      <td>10312</td>\n",
       "      <td>Staten Island, Richmond County, New York, 1031...</td>\n",
       "      <td>(40.5436525, -74.16830055, 0.0)</td>\n",
       "    </tr>\n",
       "    <tr>\n",
       "      <th>174</th>\n",
       "      <td>Stapleton and St. George</td>\n",
       "      <td>10301</td>\n",
       "      <td>Staten Island, Richmond County, New York, 1030...</td>\n",
       "      <td>(40.63979875, -74.07574570091533, 0.0)</td>\n",
       "    </tr>\n",
       "    <tr>\n",
       "      <th>175</th>\n",
       "      <td>Stapleton and St. George</td>\n",
       "      <td>10304</td>\n",
       "      <td>Todt Hill, Staten Island, Richmond County, New...</td>\n",
       "      <td>(40.606031, -74.086625, 0.0)</td>\n",
       "    </tr>\n",
       "    <tr>\n",
       "      <th>176</th>\n",
       "      <td>Stapleton and St. George</td>\n",
       "      <td>10305</td>\n",
       "      <td>Todt Hill, Staten Island, Richmond County, New...</td>\n",
       "      <td>(40.609344, -74.076293, 0.0)</td>\n",
       "    </tr>\n",
       "    <tr>\n",
       "      <th>177</th>\n",
       "      <td>Mid-Island</td>\n",
       "      <td>10314</td>\n",
       "      <td>Todt Hill, Staten Island, Richmond County, New...</td>\n",
       "      <td>(40.6099942, -74.1478012, 0.0)</td>\n",
       "    </tr>\n",
       "  </tbody>\n",
       "</table>\n",
       "<p>137 rows × 4 columns</p>\n",
       "</div>"
      ],
      "text/plain": [
       "                 Neighborhood  zip_codes  \\\n",
       "0               Central Bronx      10453   \n",
       "1               Central Bronx      10457   \n",
       "3      Bronx Park and Fordham      10458   \n",
       "4      Bronx Park and Fordham      10467   \n",
       "5      Bronx Park and Fordham      10468   \n",
       "..                        ...        ...   \n",
       "173               South Shore      10312   \n",
       "174  Stapleton and St. George      10301   \n",
       "175  Stapleton and St. George      10304   \n",
       "176  Stapleton and St. George      10305   \n",
       "177                Mid-Island      10314   \n",
       "\n",
       "                                              location  \\\n",
       "0    The Bronx, Bronx County, New York, 10453, Unit...   \n",
       "1    The Bronx, Bronx County, New York, 10457, Unit...   \n",
       "3    The Bronx, Bronx County, New York, 10458, Unit...   \n",
       "4    The Bronx, Bronx County, New York, 10467, Unit...   \n",
       "5    The Bronx, Bronx County, New York, 10468, Unit...   \n",
       "..                                                 ...   \n",
       "173  Staten Island, Richmond County, New York, 1031...   \n",
       "174  Staten Island, Richmond County, New York, 1030...   \n",
       "175  Todt Hill, Staten Island, Richmond County, New...   \n",
       "176  Todt Hill, Staten Island, Richmond County, New...   \n",
       "177  Todt Hill, Staten Island, Richmond County, New...   \n",
       "\n",
       "                                            point  \n",
       "0    (40.85234385146179, -73.91196955537043, 0.0)  \n",
       "1    (40.84796417510888, -73.89770955547682, 0.0)  \n",
       "3    (40.86156201215534, -73.88877720559567, 0.0)  \n",
       "4    (40.87452493805371, -73.86794642958414, 0.0)  \n",
       "5                  (40.8710838, -73.8941052, 0.0)  \n",
       "..                                            ...  \n",
       "173               (40.5436525, -74.16830055, 0.0)  \n",
       "174        (40.63979875, -74.07574570091533, 0.0)  \n",
       "175                  (40.606031, -74.086625, 0.0)  \n",
       "176                  (40.609344, -74.076293, 0.0)  \n",
       "177                (40.6099942, -74.1478012, 0.0)  \n",
       "\n",
       "[137 rows x 4 columns]"
      ]
     },
     "execution_count": 18,
     "metadata": {},
     "output_type": "execute_result"
    }
   ],
   "source": [
    "NYC_df2 = NYC_df2[NYC_df2.location.str.contains('New York')]\n",
    "NYC_df2"
   ]
  },
  {
   "cell_type": "code",
   "execution_count": 19,
   "metadata": {
    "pycharm": {
     "is_executing": false,
     "name": "#%%\n"
    }
   },
   "outputs": [
    {
     "data": {
      "text/html": [
       "<div>\n",
       "<style scoped>\n",
       "    .dataframe tbody tr th:only-of-type {\n",
       "        vertical-align: middle;\n",
       "    }\n",
       "\n",
       "    .dataframe tbody tr th {\n",
       "        vertical-align: top;\n",
       "    }\n",
       "\n",
       "    .dataframe thead th {\n",
       "        text-align: right;\n",
       "    }\n",
       "</style>\n",
       "<table border=\"1\" class=\"dataframe\">\n",
       "  <thead>\n",
       "    <tr style=\"text-align: right;\">\n",
       "      <th></th>\n",
       "      <th>Neighborhood</th>\n",
       "      <th>zip_codes</th>\n",
       "      <th>location</th>\n",
       "      <th>point</th>\n",
       "    </tr>\n",
       "  </thead>\n",
       "  <tbody>\n",
       "    <tr>\n",
       "      <th>0</th>\n",
       "      <td>Cathedral District</td>\n",
       "      <td>60611</td>\n",
       "      <td>Near North Side, Chicago, Cook County, Illinoi...</td>\n",
       "      <td>(41.89513283566048, -87.62281879221906, 0.0)</td>\n",
       "    </tr>\n",
       "    <tr>\n",
       "      <th>1</th>\n",
       "      <td>Central Station</td>\n",
       "      <td>60605</td>\n",
       "      <td>Near South Side, Chicago, Cook County, Illinoi...</td>\n",
       "      <td>(41.8658506, -87.6099423, 0.0)</td>\n",
       "    </tr>\n",
       "    <tr>\n",
       "      <th>2</th>\n",
       "      <td>Dearborn Park</td>\n",
       "      <td>60605</td>\n",
       "      <td>Near South Side, Chicago, Cook County, Illinoi...</td>\n",
       "      <td>(41.8658506, -87.6099423, 0.0)</td>\n",
       "    </tr>\n",
       "    <tr>\n",
       "      <th>3</th>\n",
       "      <td>Gold Coast</td>\n",
       "      <td>60610</td>\n",
       "      <td>Near North Side, Chicago, Cook County, Illinoi...</td>\n",
       "      <td>(41.8884984, -87.6292815, 0.0)</td>\n",
       "    </tr>\n",
       "    <tr>\n",
       "      <th>4</th>\n",
       "      <td>Gold Coast</td>\n",
       "      <td>60611</td>\n",
       "      <td>Near North Side, Chicago, Cook County, Illinoi...</td>\n",
       "      <td>(41.89513283566048, -87.62281879221906, 0.0)</td>\n",
       "    </tr>\n",
       "    <tr>\n",
       "      <th>...</th>\n",
       "      <td>...</td>\n",
       "      <td>...</td>\n",
       "      <td>...</td>\n",
       "      <td>...</td>\n",
       "    </tr>\n",
       "    <tr>\n",
       "      <th>355</th>\n",
       "      <td>Washington Park</td>\n",
       "      <td>60609</td>\n",
       "      <td>Bridgeport, Chicago, Cook County, Illinois, 60...</td>\n",
       "      <td>(41.8249226, -87.6381346, 0.0)</td>\n",
       "    </tr>\n",
       "    <tr>\n",
       "      <th>356</th>\n",
       "      <td>Washington Park</td>\n",
       "      <td>60615</td>\n",
       "      <td>Hyde Park, Chicago, Cook County, Illinois, 606...</td>\n",
       "      <td>(41.80110300957798, -87.59432360924957, 0.0)</td>\n",
       "    </tr>\n",
       "    <tr>\n",
       "      <th>357</th>\n",
       "      <td>Washington Park</td>\n",
       "      <td>60621</td>\n",
       "      <td>Englewood, Chicago, Cook County, Illinois, 606...</td>\n",
       "      <td>(41.7775939545224, -87.63663948181107, 0.0)</td>\n",
       "    </tr>\n",
       "    <tr>\n",
       "      <th>358</th>\n",
       "      <td>Washington Park</td>\n",
       "      <td>60637</td>\n",
       "      <td>Hyde Park, Chicago, Cook County, Illinois, 606...</td>\n",
       "      <td>(41.7884978, -87.5793199, 0.0)</td>\n",
       "    </tr>\n",
       "    <tr>\n",
       "      <th>359</th>\n",
       "      <td>Woodlawn</td>\n",
       "      <td>60637</td>\n",
       "      <td>Hyde Park, Chicago, Cook County, Illinois, 606...</td>\n",
       "      <td>(41.7884978, -87.5793199, 0.0)</td>\n",
       "    </tr>\n",
       "  </tbody>\n",
       "</table>\n",
       "<p>171 rows × 4 columns</p>\n",
       "</div>"
      ],
      "text/plain": [
       "           Neighborhood zip_codes  \\\n",
       "0    Cathedral District     60611   \n",
       "1       Central Station     60605   \n",
       "2         Dearborn Park     60605   \n",
       "3            Gold Coast     60610   \n",
       "4            Gold Coast     60611   \n",
       "..                  ...       ...   \n",
       "355     Washington Park     60609   \n",
       "356     Washington Park     60615   \n",
       "357     Washington Park     60621   \n",
       "358     Washington Park     60637   \n",
       "359            Woodlawn     60637   \n",
       "\n",
       "                                              location  \\\n",
       "0    Near North Side, Chicago, Cook County, Illinoi...   \n",
       "1    Near South Side, Chicago, Cook County, Illinoi...   \n",
       "2    Near South Side, Chicago, Cook County, Illinoi...   \n",
       "3    Near North Side, Chicago, Cook County, Illinoi...   \n",
       "4    Near North Side, Chicago, Cook County, Illinoi...   \n",
       "..                                                 ...   \n",
       "355  Bridgeport, Chicago, Cook County, Illinois, 60...   \n",
       "356  Hyde Park, Chicago, Cook County, Illinois, 606...   \n",
       "357  Englewood, Chicago, Cook County, Illinois, 606...   \n",
       "358  Hyde Park, Chicago, Cook County, Illinois, 606...   \n",
       "359  Hyde Park, Chicago, Cook County, Illinois, 606...   \n",
       "\n",
       "                                            point  \n",
       "0    (41.89513283566048, -87.62281879221906, 0.0)  \n",
       "1                  (41.8658506, -87.6099423, 0.0)  \n",
       "2                  (41.8658506, -87.6099423, 0.0)  \n",
       "3                  (41.8884984, -87.6292815, 0.0)  \n",
       "4    (41.89513283566048, -87.62281879221906, 0.0)  \n",
       "..                                            ...  \n",
       "355                (41.8249226, -87.6381346, 0.0)  \n",
       "356  (41.80110300957798, -87.59432360924957, 0.0)  \n",
       "357   (41.7775939545224, -87.63663948181107, 0.0)  \n",
       "358                (41.7884978, -87.5793199, 0.0)  \n",
       "359                (41.7884978, -87.5793199, 0.0)  \n",
       "\n",
       "[171 rows x 4 columns]"
      ]
     },
     "execution_count": 19,
     "metadata": {},
     "output_type": "execute_result"
    }
   ],
   "source": [
    "CHI_df2 = CHI_df2[CHI_df2.location.str.contains('Chicago')]\n",
    "CHI_df2"
   ]
  },
  {
   "cell_type": "markdown",
   "metadata": {
    "pycharm": {
     "name": "#%% md\n"
    }
   },
   "source": [
    "Due to NA/NULL values the same operation of filtering the data didnt work. So I had to drop them again. Possibly due to the limitations of Nominatim.\n"
   ]
  },
  {
   "cell_type": "code",
   "execution_count": 20,
   "metadata": {
    "pycharm": {
     "is_executing": false,
     "name": "#%%\n"
    }
   },
   "outputs": [
    {
     "name": "stdout",
     "output_type": "stream",
     "text": [
      "Neighborhood     0\n",
      "zip_codes        0\n",
      "location        88\n",
      "point           88\n",
      "dtype: int64\n",
      "Neighborhood     0\n",
      "zip_codes        0\n",
      "location        88\n",
      "point           88\n",
      "dtype: int64\n"
     ]
    }
   ],
   "source": [
    "print(LA_df2.isna().sum())\n",
    "print(LA_df2.isnull().sum())"
   ]
  },
  {
   "cell_type": "code",
   "execution_count": 21,
   "metadata": {
    "pycharm": {
     "is_executing": false,
     "name": "#%%\n"
    }
   },
   "outputs": [
    {
     "name": "stdout",
     "output_type": "stream",
     "text": [
      "Neighborhood    0\n",
      "zip_codes       0\n",
      "location        0\n",
      "point           0\n",
      "dtype: int64\n",
      "Neighborhood    0\n",
      "zip_codes       0\n",
      "location        0\n",
      "point           0\n",
      "dtype: int64\n"
     ]
    }
   ],
   "source": [
    "LA_df2.dropna(inplace=True)\n",
    "print(LA_df2.isna().sum())\n",
    "print(LA_df2.isnull().sum())"
   ]
  },
  {
   "cell_type": "code",
   "execution_count": 22,
   "metadata": {
    "pycharm": {
     "is_executing": false,
     "name": "#%%\n"
    }
   },
   "outputs": [
    {
     "data": {
      "text/html": [
       "<div>\n",
       "<style scoped>\n",
       "    .dataframe tbody tr th:only-of-type {\n",
       "        vertical-align: middle;\n",
       "    }\n",
       "\n",
       "    .dataframe tbody tr th {\n",
       "        vertical-align: top;\n",
       "    }\n",
       "\n",
       "    .dataframe thead th {\n",
       "        text-align: right;\n",
       "    }\n",
       "</style>\n",
       "<table border=\"1\" class=\"dataframe\">\n",
       "  <thead>\n",
       "    <tr style=\"text-align: right;\">\n",
       "      <th></th>\n",
       "      <th>Neighborhood</th>\n",
       "      <th>zip_codes</th>\n",
       "      <th>location</th>\n",
       "      <th>point</th>\n",
       "    </tr>\n",
       "  </thead>\n",
       "  <tbody>\n",
       "    <tr>\n",
       "      <th>0</th>\n",
       "      <td>Acton</td>\n",
       "      <td>93510</td>\n",
       "      <td>Los Angeles County, California, 93510, United ...</td>\n",
       "      <td>(34.46103834645381, -118.21138549680546, 0.0)</td>\n",
       "    </tr>\n",
       "    <tr>\n",
       "      <th>1</th>\n",
       "      <td>Agoura Hills</td>\n",
       "      <td>91301</td>\n",
       "      <td>Malibu Junction, Agoura Hills, Los Angeles Cou...</td>\n",
       "      <td>(34.15295555, -118.75932802244274, 0.0)</td>\n",
       "    </tr>\n",
       "    <tr>\n",
       "      <th>5</th>\n",
       "      <td>Alhambra</td>\n",
       "      <td>91803</td>\n",
       "      <td>Alhambra, Los Angeles County, California, 9180...</td>\n",
       "      <td>(34.07170388325506, -118.1458605938974, 0.0)</td>\n",
       "    </tr>\n",
       "    <tr>\n",
       "      <th>7</th>\n",
       "      <td>Alhambra (PO Boxes)</td>\n",
       "      <td>91802</td>\n",
       "      <td>Alhambra, Los Angeles County, California, 9180...</td>\n",
       "      <td>(34.0927825, -118.1263605, 0.0)</td>\n",
       "    </tr>\n",
       "    <tr>\n",
       "      <th>10</th>\n",
       "      <td>Altadena</td>\n",
       "      <td>91001</td>\n",
       "      <td>Linda Vista, Altadena, Los Angeles County, Cal...</td>\n",
       "      <td>(34.1900323, -118.1325732, 0.0)</td>\n",
       "    </tr>\n",
       "    <tr>\n",
       "      <th>...</th>\n",
       "      <td>...</td>\n",
       "      <td>...</td>\n",
       "      <td>...</td>\n",
       "      <td>...</td>\n",
       "    </tr>\n",
       "    <tr>\n",
       "      <th>956</th>\n",
       "      <td>Wilmington (Los Angeles)</td>\n",
       "      <td>90744</td>\n",
       "      <td>Thenard, Los Angeles, Los Angeles County, Cali...</td>\n",
       "      <td>(33.7933964, -118.2400379, 0.0)</td>\n",
       "    </tr>\n",
       "    <tr>\n",
       "      <th>958</th>\n",
       "      <td>Wilshire Center (Los Angeles)</td>\n",
       "      <td>90004</td>\n",
       "      <td>Los Angeles, Los Angeles County, California, 9...</td>\n",
       "      <td>(34.071844381995426, -118.3023158073664, 0.0)</td>\n",
       "    </tr>\n",
       "    <tr>\n",
       "      <th>966</th>\n",
       "      <td>Wilshire-La Brea (Los Angeles)</td>\n",
       "      <td>90036</td>\n",
       "      <td>Los Angeles, Los Angeles County, California, 9...</td>\n",
       "      <td>(34.06737818754923, -118.352266061733, 0.0)</td>\n",
       "    </tr>\n",
       "    <tr>\n",
       "      <th>968</th>\n",
       "      <td>Windsor Hills (Los Angeles)</td>\n",
       "      <td>90043</td>\n",
       "      <td>Los Angeles, Los Angeles County, California, 9...</td>\n",
       "      <td>(33.992140810110676, -118.33125048227424, 0.0)</td>\n",
       "    </tr>\n",
       "    <tr>\n",
       "      <th>969</th>\n",
       "      <td>Windsor Square (Los Angeles)</td>\n",
       "      <td>90004</td>\n",
       "      <td>Los Angeles, Los Angeles County, California, 9...</td>\n",
       "      <td>(34.071844381995426, -118.3023158073664, 0.0)</td>\n",
       "    </tr>\n",
       "  </tbody>\n",
       "</table>\n",
       "<p>480 rows × 4 columns</p>\n",
       "</div>"
      ],
      "text/plain": [
       "                       Neighborhood zip_codes  \\\n",
       "0                             Acton     93510   \n",
       "1                      Agoura Hills     91301   \n",
       "5                          Alhambra     91803   \n",
       "7               Alhambra (PO Boxes)     91802   \n",
       "10                         Altadena     91001   \n",
       "..                              ...       ...   \n",
       "956        Wilmington (Los Angeles)     90744   \n",
       "958   Wilshire Center (Los Angeles)     90004   \n",
       "966  Wilshire-La Brea (Los Angeles)     90036   \n",
       "968     Windsor Hills (Los Angeles)     90043   \n",
       "969    Windsor Square (Los Angeles)     90004   \n",
       "\n",
       "                                              location  \\\n",
       "0    Los Angeles County, California, 93510, United ...   \n",
       "1    Malibu Junction, Agoura Hills, Los Angeles Cou...   \n",
       "5    Alhambra, Los Angeles County, California, 9180...   \n",
       "7    Alhambra, Los Angeles County, California, 9180...   \n",
       "10   Linda Vista, Altadena, Los Angeles County, Cal...   \n",
       "..                                                 ...   \n",
       "956  Thenard, Los Angeles, Los Angeles County, Cali...   \n",
       "958  Los Angeles, Los Angeles County, California, 9...   \n",
       "966  Los Angeles, Los Angeles County, California, 9...   \n",
       "968  Los Angeles, Los Angeles County, California, 9...   \n",
       "969  Los Angeles, Los Angeles County, California, 9...   \n",
       "\n",
       "                                              point  \n",
       "0     (34.46103834645381, -118.21138549680546, 0.0)  \n",
       "1           (34.15295555, -118.75932802244274, 0.0)  \n",
       "5      (34.07170388325506, -118.1458605938974, 0.0)  \n",
       "7                   (34.0927825, -118.1263605, 0.0)  \n",
       "10                  (34.1900323, -118.1325732, 0.0)  \n",
       "..                                              ...  \n",
       "956                 (33.7933964, -118.2400379, 0.0)  \n",
       "958   (34.071844381995426, -118.3023158073664, 0.0)  \n",
       "966     (34.06737818754923, -118.352266061733, 0.0)  \n",
       "968  (33.992140810110676, -118.33125048227424, 0.0)  \n",
       "969   (34.071844381995426, -118.3023158073664, 0.0)  \n",
       "\n",
       "[480 rows x 4 columns]"
      ]
     },
     "execution_count": 22,
     "metadata": {},
     "output_type": "execute_result"
    }
   ],
   "source": [
    "LA_df2 = LA_df2[LA_df2.location.str.contains('Los Angeles')]\n",
    "LA_df2\n"
   ]
  },
  {
   "cell_type": "code",
   "execution_count": 23,
   "metadata": {
    "pycharm": {
     "is_executing": false,
     "name": "#%%\n"
    }
   },
   "outputs": [
    {
     "name": "stdout",
     "output_type": "stream",
     "text": [
      "Duplicates Removed!\n"
     ]
    }
   ],
   "source": [
    "NYC_df2.drop_duplicates(subset= 'zip_codes', keep= False, inplace=True)\n",
    "LA_df2.drop_duplicates(subset= 'zip_codes', keep= False, inplace=True)\n",
    "CHI_df2.drop_duplicates(subset= 'zip_codes', keep= False, inplace=True)\n",
    "\n",
    "print('Duplicates Removed!')"
   ]
  },
  {
   "cell_type": "markdown",
   "metadata": {
    "pycharm": {
     "name": "#%% md\n"
    }
   },
   "source": [
    "Setting up for column split insteads of \"point\" it'll be  \"Latitude\" & \"Longitude\""
   ]
  },
  {
   "cell_type": "code",
   "execution_count": 24,
   "metadata": {
    "pycharm": {
     "is_executing": false,
     "name": "#%%\n"
    }
   },
   "outputs": [],
   "source": [
    "NYC_df2=NYC_df2.replace('\\(','',regex=True).astype(str)\n",
    "NYC_df2=NYC_df2.replace('\\)','',regex=True).astype(str)\n",
    "NYC_df2=NYC_df2.replace('\\, 0.0','',regex=True).astype(str)\n",
    "\n",
    "LA_df2=LA_df2.replace('\\(','',regex=True).astype(str)\n",
    "LA_df2=LA_df2.replace('\\)','',regex=True).astype(str)\n",
    "LA_df2=LA_df2.replace('\\, 0.0','',regex=True).astype(str)\n",
    "\n",
    "CHI_df2=CHI_df2.replace('\\(','',regex=True).astype(str)\n",
    "CHI_df2=CHI_df2.replace('\\)','',regex=True).astype(str)\n",
    "CHI_df2=CHI_df2.replace('\\, 0.0','',regex=True).astype(str)"
   ]
  },
  {
   "cell_type": "code",
   "execution_count": 25,
   "metadata": {
    "pycharm": {
     "is_executing": false,
     "name": "#%%\n"
    }
   },
   "outputs": [],
   "source": [
    "NYC_df2.reset_index(inplace=True)\n",
    "LA_df2.reset_index(inplace=True)\n",
    "CHI_df2.reset_index(inplace=True)"
   ]
  },
  {
   "cell_type": "markdown",
   "metadata": {
    "pycharm": {
     "name": "#%% md\n"
    }
   },
   "source": [
    "Made new DataFrame with Lat and Long values"
   ]
  },
  {
   "cell_type": "code",
   "execution_count": 26,
   "metadata": {
    "pycharm": {
     "is_executing": false,
     "name": "#%%\n"
    }
   },
   "outputs": [],
   "source": [
    "NYC_df2.drop(['index'], axis=1, inplace= True)\n",
    "LA_df2.drop(['index'], axis=1, inplace= True)\n",
    "CHI_df2.drop(['index'], axis=1, inplace= True)"
   ]
  },
  {
   "cell_type": "code",
   "execution_count": 27,
   "metadata": {
    "pycharm": {
     "is_executing": false,
     "name": "#%%\n"
    }
   },
   "outputs": [],
   "source": [
    "split_df1 = NYC_df2['point'].str.split(\",\")\n",
    "data1 = split_df1.to_list()\n",
    "names1 = ['Latitude', 'Longitude']\n",
    "M1_df = pd.DataFrame(data1, columns=names1)"
   ]
  },
  {
   "cell_type": "code",
   "execution_count": 28,
   "metadata": {
    "pycharm": {
     "is_executing": false,
     "name": "#%%\n"
    }
   },
   "outputs": [],
   "source": [
    "split_df2 = LA_df2['point'].str.split(\",\")\n",
    "data2 = split_df2.to_list()\n",
    "names2 = ['Latitude', 'Longitude']\n",
    "M2_df = pd.DataFrame(data2, columns=names2)"
   ]
  },
  {
   "cell_type": "code",
   "execution_count": 29,
   "metadata": {
    "pycharm": {
     "is_executing": false,
     "name": "#%%\n"
    }
   },
   "outputs": [],
   "source": [
    "split_df3 = CHI_df2['point'].str.split(\",\")\n",
    "data3 = split_df3.to_list()\n",
    "names3 = ['Latitude', 'Longitude']\n",
    "M3_df = pd.DataFrame(data3, columns=names3)"
   ]
  },
  {
   "cell_type": "code",
   "execution_count": 30,
   "metadata": {
    "pycharm": {
     "is_executing": false,
     "name": "#%%\n"
    }
   },
   "outputs": [
    {
     "name": "stdout",
     "output_type": "stream",
     "text": [
      "Concatenated objects\n"
     ]
    }
   ],
   "source": [
    "NYC_df3 = pd.concat([NYC_df2, M1_df], axis=1, join='inner')\n",
    "LA_df3 = pd.concat([LA_df2, M2_df], axis=1, join='inner')\n",
    "CHI_df3 = pd.concat([CHI_df2, M3_df], axis=1, join='inner')\n",
    "\n",
    "print('Concatenated objects')"
   ]
  },
  {
   "cell_type": "code",
   "execution_count": 31,
   "metadata": {
    "pycharm": {
     "is_executing": false,
     "name": "#%%\n"
    }
   },
   "outputs": [
    {
     "name": "stdout",
     "output_type": "stream",
     "text": [
      "Columns Dropped!\n"
     ]
    }
   ],
   "source": [
    "NYC_df3.drop(['point'], axis=1, inplace= True)\n",
    "LA_df3.drop(['point'], axis=1, inplace= True)\n",
    "CHI_df3.drop(['point'], axis=1, inplace= True)\n",
    "\n",
    "print(\"Columns Dropped!\")"
   ]
  },
  {
   "cell_type": "code",
   "execution_count": 51,
   "metadata": {
    "pycharm": {
     "is_executing": false,
     "name": "#%%\n"
    }
   },
   "outputs": [],
   "source": [
    "convert_dict = {\"zip_codes\": int}\n",
    "NYC_df3 = NYC_df3.astype(convert_dict)"
   ]
  },
  {
   "cell_type": "code",
   "execution_count": 52,
   "metadata": {
    "pycharm": {
     "is_executing": false,
     "name": "#%%\n"
    }
   },
   "outputs": [
    {
     "data": {
      "text/plain": [
       "Neighborhood    object\n",
       "zip_codes        int64\n",
       "location        object\n",
       "Latitude        object\n",
       "Longitude       object\n",
       "dtype: object"
      ]
     },
     "execution_count": 52,
     "metadata": {},
     "output_type": "execute_result"
    }
   ],
   "source": [
    "NYC_df3.dtypes"
   ]
  },
  {
   "cell_type": "code",
   "execution_count": 35,
   "metadata": {
    "pycharm": {
     "is_executing": false,
     "name": "#%%\n"
    }
   },
   "outputs": [
    {
     "ename": "SyntaxError",
     "evalue": "invalid syntax (<ipython-input-35-30dceed5b627>, line 5)",
     "output_type": "error",
     "traceback": [
      "\u001b[0;36m  File \u001b[0;32m\"<ipython-input-35-30dceed5b627>\"\u001b[0;36m, line \u001b[0;32m5\u001b[0m\n\u001b[0;31m    latitude1 = location.latitudey, NY are {}, {}.'.form\u001b[0m\n\u001b[0m                                         ^\u001b[0m\n\u001b[0;31mSyntaxError\u001b[0m\u001b[0;31m:\u001b[0m invalid syntax\n"
     ]
    }
   ],
   "source": [
    "address1 = 'New York City, NY'\n",
    "\n",
    "geolocator1 = Nominatim(user_agent=\"explorer1\")\n",
    "location = geolocator1.geocode(address1)\n",
    "latitude1 = location.latitudey, NY are {}, {}.'.form\n",
    "longitude1 = location.longitude\n",
    "print('The geograpical coordinate of New York City, NY are {}, {}.'.format(latitude1, longitude1))"
   ]
  },
  {
   "cell_type": "code",
   "execution_count": null,
   "metadata": {
    "pycharm": {
     "is_executing": false,
     "name": "#%%\n"
    }
   },
   "outputs": [],
   "source": [
    "address2 = 'Los Angeles, CA'\n",
    "\n",
    "geolocator2 = Nominatim(user_agent=\"explorer2\")\n",
    "location = geolocator2.geocode(address2)\n",
    "latitude2 = location.latitude\n",
    "longitude2 = location.longitude\n",
    "print('The geograpical coordinate of Los Angeles, CA are {}, {}.'.format(latitude2, longitude2))"
   ]
  },
  {
   "cell_type": "code",
   "execution_count": null,
   "metadata": {
    "pycharm": {
     "is_executing": false,
     "name": "#%%\n"
    }
   },
   "outputs": [],
   "source": [
    "address3 = 'Chicago, IL'\n",
    "\n",
    "geolocator3 = Nominatim(user_agent=\"explorer3\")\n",
    "location = geolocator3.geocode(address3)\n",
    "latitude3 = location.latitude\n",
    "longitude3 = location.longitude\n",
    "print('The geograpical coordinate of Chicago, IL {}, {}.'.format(latitude3, longitude3))"
   ]
  },
  {
   "cell_type": "code",
   "execution_count": null,
   "metadata": {
    "pycharm": {
     "is_executing": false,
     "name": "#%%\n"
    }
   },
   "outputs": [],
   "source": [
    "map_NYC = folium.Map(location=[latitude1, longitude1], zoom_start=11)\n",
    "\n",
    "for lat, lng, label in zip(NYC_df3['Latitude'], NYC_df3['Longitude'], NYC_df3['Neighborhood']):\n",
    "    label = folium.Popup(label, parse_html=True)\n",
    "    folium.CircleMarker(\n",
    "        [lat, lng],\n",
    "        radius=5,\n",
    "        popup=label,\n",
    "        color='blue',\n",
    "        fill=True,\n",
    "        fill_color='#3186cc',\n",
    "        fill_opacity=0.7,\n",
    "        parse_html=False).add_to(map_NYC)  \n",
    "    \n",
    "map_NYC"
   ]
  },
  {
   "cell_type": "code",
   "execution_count": null,
   "metadata": {
    "pycharm": {
     "is_executing": false,
     "name": "#%%\n"
    }
   },
   "outputs": [],
   "source": [
    "map_LA = folium.Map(location=[latitude2, longitude2], zoom_start=11)\n",
    "\n",
    "for lat, lng, label in zip(LA_df3['Latitude'], LA_df3['Longitude'], LA_df3['Neighborhood']):\n",
    "    label = folium.Popup(label, parse_html=True)\n",
    "    folium.CircleMarker(\n",
    "        [lat, lng],\n",
    "        radius=5,\n",
    "        popup=label,\n",
    "        color='blue',\n",
    "        fill=True,\n",
    "        fill_color='#3186cc',\n",
    "        fill_opacity=0.7,\n",
    "        parse_html=False).add_to(map_LA)  \n",
    "    \n",
    "map_LA"
   ]
  },
  {
   "cell_type": "code",
   "execution_count": null,
   "metadata": {
    "pycharm": {
     "is_executing": false,
     "name": "#%%\n"
    }
   },
   "outputs": [],
   "source": [
    "map_CHI = folium.Map(location=[latitude3, longitude3], zoom_start=11)\n",
    "\n",
    "for lat, lng, label in zip(CHI_df3['Latitude'], CHI_df3['Longitude'], CHI_df3['Neighborhood']):\n",
    "    label = folium.Popup(label, parse_html=True)\n",
    "    folium.CircleMarker(\n",
    "        [lat, lng],\n",
    "        radius=5,\n",
    "        popup=label,\n",
    "        color='blue',\n",
    "        fill=True,\n",
    "        fill_color='#3186cc',\n",
    "        fill_opacity=0.7,\n",
    "        parse_html=False).add_to(map_CHI)  \n",
    "    \n",
    "map_CHI"
   ]
  },
  {
   "cell_type": "code",
   "execution_count": null,
   "metadata": {
    "pycharm": {
     "is_executing": false,
     "name": "#%%\n"
    }
   },
   "outputs": [],
   "source": [
    "CLIENT_ID = 'BDROO1IZPDFS22PHKLXZ2WOVPNJIU3QYEN35JV1OKAMDP04M' # your Foursquare ID\n",
    "CLIENT_SECRET = 'IBOJIJNF1T4QJWAYO1YSKAX0N0SRQSVBLYXA4P4RGYB3GYPM' # your Foursquare Secret\n",
    "VERSION = '20180605' # Foursquare API version"
   ]
  },
  {
   "cell_type": "code",
   "execution_count": null,
   "metadata": {
    "pycharm": {
     "is_executing": false,
     "name": "#%%\n"
    }
   },
   "outputs": [],
   "source": [
    "LIMIT = 100 # limit of number of venues returned by Foursquare API\n",
    "radius = 500 # define radius\n",
    "\n",
    "url1 = 'https://api.foursquare.com/v2/venues/explore?&client_id={}&client_secret={}&v={}&ll={},{}&radius={}&limit={}&categoryId={}'.format(\n",
    "    CLIENT_ID, \n",
    "    CLIENT_SECRET, \n",
    "    VERSION,\n",
    "    latitude1, \n",
    "    longitude1, \n",
    "    radius,\n",
    "    LIMIT,\n",
    "    \"52e81612bcbc57f1066b79ff\")"
   ]
  },
  {
   "cell_type": "code",
   "execution_count": null,
   "metadata": {
    "pycharm": {
     "is_executing": false,
     "name": "#%%\n"
    }
   },
   "outputs": [],
   "source": [
    "url2 = 'https://api.foursquare.com/v2/venues/explore?&client_id={}&client_secret={}&v={}&ll={},{}&radius={}&limit={}&categoryId={}'.format(\n",
    "    CLIENT_ID, \n",
    "    CLIENT_SECRET, \n",
    "    VERSION,\n",
    "    latitude2, \n",
    "    longitude2, \n",
    "    radius,\n",
    "    LIMIT,\n",
    "    \"52e81612bcbc57f1066b79ff\")"
   ]
  },
  {
   "cell_type": "code",
   "execution_count": null,
   "metadata": {
    "pycharm": {
     "is_executing": false,
     "name": "#%%\n"
    }
   },
   "outputs": [],
   "source": [
    "url3 = 'https://api.foursquare.com/v2/venues/explore?&client_id={}&client_secret={}&v={}&ll={},{}&radius={}&limit={}&categoryId={}'.format(\n",
    "    CLIENT_ID, \n",
    "    CLIENT_SECRET, \n",
    "    VERSION,\n",
    "    latitude3, \n",
    "    longitude3, \n",
    "    radius,\n",
    "    LIMIT,\n",
    "    \"52e81612bcbc57f1066b79ff\")"
   ]
  },
  {
   "cell_type": "code",
   "execution_count": null,
   "metadata": {
    "pycharm": {
     "is_executing": false,
     "name": "#%%\n"
    }
   },
   "outputs": [],
   "source": [
    "results1 = requests.get(url1).json()\n",
    "results2 = requests.get(url2).json()\n",
    "results3 = requests.get(url3).json()\n",
    "\n",
    "print(\"Got Results\")"
   ]
  },
  {
   "cell_type": "code",
   "execution_count": null,
   "metadata": {
    "pycharm": {
     "is_executing": false,
     "name": "#%%\n"
    }
   },
   "outputs": [],
   "source": [
    "results1"
   ]
  },
  {
   "cell_type": "code",
   "execution_count": null,
   "metadata": {
    "pycharm": {
     "is_executing": false,
     "name": "#%%\n"
    }
   },
   "outputs": [],
   "source": [
    "def get_category_type(row):\n",
    "    try:\n",
    "        categories_list = row['categories']\n",
    "    except:\n",
    "        categories_list = row['venue.categories']\n",
    "        \n",
    "    if len(categories_list) == 0:\n",
    "        return None\n",
    "    else:\n",
    "        return categories_list[0]['name']"
   ]
  },
  {
   "cell_type": "code",
   "execution_count": null,
   "metadata": {
    "pycharm": {
     "is_executing": false,
     "name": "#%%\n"
    }
   },
   "outputs": [],
   "source": [
    "# venues = results1['response']['groups'][0]['items']\n",
    "#     \n",
    "# nearby_venues = pd.json_normalize(venues) # flatten JSON\n",
    "# \n",
    "# # filter columns\n",
    "# filtered_columns = ['venue.name', 'venue.categories', 'venue.location.lat', 'venue.location.lng']\n",
    "# nearby_venues =nearby_venues.loc[:, filtered_columns]\n",
    "# \n",
    "# # filter the category for each row\n",
    "# nearby_venues['venue.categories'] = nearby_venues.apply(get_category_type, axis=1)\n",
    "# \n",
    "# # clean columns\n",
    "# nearby_venues.columns = [col.split(\".\")[-1] for col in nearby_venues.columns]\n",
    "# \n",
    "# nearby_venues.head()"
   ]
  },
  {
   "cell_type": "code",
   "execution_count": null,
   "metadata": {
    "pycharm": {
     "is_executing": false,
     "name": "#%%\n"
    }
   },
   "outputs": [],
   "source": [
    "def getNearbyVenues(names, latitudes, longitudes, radius=500):\n",
    "    \n",
    "    venues_list=[]\n",
    "    for name, lat, lng in zip(names, latitudes, longitudes):\n",
    "        print(name)\n",
    "            \n",
    "        # create the API request URL\n",
    "        url = 'https://api.foursquare.com/v2/venues/explore?&client_id={}&client_secret={}&v={}&ll={},{}&radius={}&limit={}&categoryId={}'.format(\n",
    "            CLIENT_ID, \n",
    "            CLIENT_SECRET, \n",
    "            VERSION,\n",
    "            lat, \n",
    "            lng, \n",
    "            radius,\n",
    "            LIMIT,\n",
    "            \"52e81612bcbc57f1066b79ff\") # ID for Halal Resturant\n",
    "            \n",
    "        # make the GET request\n",
    "        results = requests.get(url).json()\n",
    "        \n",
    "        # return only relevant information for each nearby venue\n",
    "        venues_list.append([(\n",
    "            name, \n",
    "            lat, \n",
    "            lng, \n",
    "            v['venue']['name'], \n",
    "            v['venue']['location']['lat'], \n",
    "            v['venue']['location']['lng'],  \n",
    "            v['venue']['categories']) for v in results])\n",
    "\n",
    "    nearby_venues = pd.DataFrame([item for venue_list in venues_list for item in venue_list])\n",
    "    nearby_venues.columns = ['Neighborhood', \n",
    "                  'Neighborhood Latitude', \n",
    "                  'Neighborhood Longitude', \n",
    "                  'Venue', \n",
    "                  'Venue Latitude', \n",
    "                  'Venue Longitude', \n",
    "                  'Venue Category']\n",
    "    \n",
    "    return(nearby_venues)"
   ]
  },
  {
   "cell_type": "code",
   "execution_count": null,
   "metadata": {
    "pycharm": {
     "is_executing": false,
     "name": "#%%\n"
    }
   },
   "outputs": [],
   "source": [
    "LA_venues = getNearbyVenues(names = LA_df3['zip_codes'],\n",
    "                             latitudes = LA_df3['Latitude'],\n",
    "                             longitudes = LA_df3['Longitude'])\n"
   ]
  },
  {
   "cell_type": "code",
   "execution_count": null,
   "metadata": {
    "pycharm": {
     "is_executing": false,
     "name": "#%%\n"
    }
   },
   "outputs": [],
   "source": [
    "LA_venues.head()"
   ]
  },
  {
   "cell_type": "code",
   "execution_count": null,
   "metadata": {
    "pycharm": {
     "is_executing": false,
     "name": "#%%\n"
    }
   },
   "outputs": [],
   "source": [
    "CHI_venues = getNearbyVenues(names = CHI_df3['zip_codes'],\n",
    "                             latitudes = CHI_df3['Latitude'],\n",
    "                             longitudes = CHI_df3['Longitude'])"
   ]
  },
  {
   "cell_type": "code",
   "execution_count": null,
   "metadata": {
    "pycharm": {
     "is_executing": false,
     "name": "#%%\n"
    }
   },
   "outputs": [],
   "source": [
    "CHI_venues.head()"
   ]
  },
  {
   "cell_type": "code",
   "execution_count": null,
   "metadata": {
    "pycharm": {
     "is_executing": false,
     "name": "#%%\n"
    }
   },
   "outputs": [],
   "source": [
    "NYC_venues = getNearbyVenues(names = NYC_df3['zip_codes'],\n",
    "                             latitudes = NYC_df3['Latitude'],\n",
    "                             longitudes = NYC_df3['Longitude'], \n",
    "                             radius = 500)"
   ]
  },
  {
   "cell_type": "code",
   "execution_count": null,
   "metadata": {
    "pycharm": {
     "is_executing": false,
     "name": "#%%\n"
    }
   },
   "outputs": [],
   "source": [
    "NYC_venues.head()"
   ]
  },
  {
   "cell_type": "code",
   "execution_count": null,
   "metadata": {
    "pycharm": {
     "is_executing": false,
     "name": "#%%\n"
    }
   },
   "outputs": [],
   "source": [
    "CHI_df3.dtypes"
   ]
  },
  {
   "cell_type": "code",
   "execution_count": null,
   "metadata": {
    "pycharm": {
     "is_executing": false,
     "name": "#%%\n"
    }
   },
   "outputs": [],
   "source": [
    "\n"
   ]
  }
 ],
 "metadata": {
  "kernelspec": {
   "display_name": "Python 3",
   "language": "python",
   "name": "python3"
  },
  "language_info": {
   "codemirror_mode": {
    "name": "ipython",
    "version": 3
   },
   "file_extension": ".py",
   "mimetype": "text/x-python",
   "name": "python",
   "nbconvert_exporter": "python",
   "pygments_lexer": "ipython3",
   "version": "3.7.5"
  },
  "pycharm": {
   "stem_cell": {
    "cell_type": "raw",
    "metadata": {
     "collapsed": false
    },
    "source": []
   }
  }
 },
 "nbformat": 4,
 "nbformat_minor": 1
}
